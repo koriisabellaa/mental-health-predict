{
  "nbformat": 4,
  "nbformat_minor": 0,
  "metadata": {
    "colab": {
      "name": "Feature Eng - Mental Health in Tech Survey.ipynb",
      "provenance": [],
      "collapsed_sections": []
    },
    "kernelspec": {
      "name": "python3",
      "display_name": "Python 3"
    },
    "language_info": {
      "name": "python"
    }
  },
  "cells": [
    {
      "cell_type": "code",
      "execution_count": 132,
      "metadata": {
        "id": "XdSFflvnw_n0"
      },
      "outputs": [],
      "source": [
        "import pandas as pd\n",
        "import numpy as np\n",
        "\n",
        "from google.colab import files"
      ]
    },
    {
      "cell_type": "code",
      "source": [
        "!pip install -q kaggle"
      ],
      "metadata": {
        "id": "hexePLO7xsP1"
      },
      "execution_count": 133,
      "outputs": []
    },
    {
      "cell_type": "code",
      "source": [
        "# uploaded = files.upload()"
      ],
      "metadata": {
        "id": "ElF38sfayHvO"
      },
      "execution_count": 134,
      "outputs": []
    },
    {
      "cell_type": "code",
      "source": [
        "!mkdir -p ~/.kaggle\n",
        "!cp kaggle.json ~/.kaggle\n",
        "\n",
        "!chmod 600 /root/.kaggle/kaggle.json"
      ],
      "metadata": {
        "id": "HTPRDwZcyPLj"
      },
      "execution_count": 135,
      "outputs": []
    },
    {
      "cell_type": "code",
      "source": [
        "!kaggle datasets download -d osmi/mental-health-in-tech-survey"
      ],
      "metadata": {
        "id": "piLw3Bu2ygH7",
        "colab": {
          "base_uri": "https://localhost:8080/"
        },
        "outputId": "ef8bdacc-79ff-47af-e186-ec84845b171c"
      },
      "execution_count": 136,
      "outputs": [
        {
          "output_type": "stream",
          "name": "stdout",
          "text": [
            "mental-health-in-tech-survey.zip: Skipping, found more recently modified local copy (use --force to force download)\n"
          ]
        }
      ]
    },
    {
      "cell_type": "code",
      "source": [
        "# !unzip -q /content/mental-health-in-tech-survey.zip -d ."
      ],
      "metadata": {
        "id": "dnMqXf5lyyHH"
      },
      "execution_count": 137,
      "outputs": []
    },
    {
      "cell_type": "code",
      "source": [
        "df = pd.read_csv('/content/survey.csv')"
      ],
      "metadata": {
        "id": "MCJp-Cfcy1I7"
      },
      "execution_count": 138,
      "outputs": []
    },
    {
      "cell_type": "code",
      "source": [
        "df.info()"
      ],
      "metadata": {
        "id": "p_r_D790zH54",
        "colab": {
          "base_uri": "https://localhost:8080/"
        },
        "outputId": "22139fd2-4022-44c1-a40c-aadc3ebeffcc"
      },
      "execution_count": 139,
      "outputs": [
        {
          "output_type": "stream",
          "name": "stdout",
          "text": [
            "<class 'pandas.core.frame.DataFrame'>\n",
            "RangeIndex: 1259 entries, 0 to 1258\n",
            "Data columns (total 27 columns):\n",
            " #   Column                     Non-Null Count  Dtype \n",
            "---  ------                     --------------  ----- \n",
            " 0   Timestamp                  1259 non-null   object\n",
            " 1   Age                        1259 non-null   int64 \n",
            " 2   Gender                     1259 non-null   object\n",
            " 3   Country                    1259 non-null   object\n",
            " 4   state                      744 non-null    object\n",
            " 5   self_employed              1241 non-null   object\n",
            " 6   family_history             1259 non-null   object\n",
            " 7   treatment                  1259 non-null   object\n",
            " 8   work_interfere             995 non-null    object\n",
            " 9   no_employees               1259 non-null   object\n",
            " 10  remote_work                1259 non-null   object\n",
            " 11  tech_company               1259 non-null   object\n",
            " 12  benefits                   1259 non-null   object\n",
            " 13  care_options               1259 non-null   object\n",
            " 14  wellness_program           1259 non-null   object\n",
            " 15  seek_help                  1259 non-null   object\n",
            " 16  anonymity                  1259 non-null   object\n",
            " 17  leave                      1259 non-null   object\n",
            " 18  mental_health_consequence  1259 non-null   object\n",
            " 19  phys_health_consequence    1259 non-null   object\n",
            " 20  coworkers                  1259 non-null   object\n",
            " 21  supervisor                 1259 non-null   object\n",
            " 22  mental_health_interview    1259 non-null   object\n",
            " 23  phys_health_interview      1259 non-null   object\n",
            " 24  mental_vs_physical         1259 non-null   object\n",
            " 25  obs_consequence            1259 non-null   object\n",
            " 26  comments                   164 non-null    object\n",
            "dtypes: int64(1), object(26)\n",
            "memory usage: 265.7+ KB\n"
          ]
        }
      ]
    },
    {
      "cell_type": "code",
      "source": [
        "df.shape"
      ],
      "metadata": {
        "id": "-pQRK1Ggzq2J",
        "colab": {
          "base_uri": "https://localhost:8080/"
        },
        "outputId": "2cf56293-ff80-48b6-cf47-b996a9f86460"
      },
      "execution_count": 140,
      "outputs": [
        {
          "output_type": "execute_result",
          "data": {
            "text/plain": [
              "(1259, 27)"
            ]
          },
          "metadata": {},
          "execution_count": 140
        }
      ]
    },
    {
      "cell_type": "code",
      "source": [
        "df.isnull().sum()"
      ],
      "metadata": {
        "id": "y3f0FjOXzZzm",
        "colab": {
          "base_uri": "https://localhost:8080/"
        },
        "outputId": "fa0cce73-2ffa-4209-b3b9-7943a500f3e9"
      },
      "execution_count": 141,
      "outputs": [
        {
          "output_type": "execute_result",
          "data": {
            "text/plain": [
              "Timestamp                       0\n",
              "Age                             0\n",
              "Gender                          0\n",
              "Country                         0\n",
              "state                         515\n",
              "self_employed                  18\n",
              "family_history                  0\n",
              "treatment                       0\n",
              "work_interfere                264\n",
              "no_employees                    0\n",
              "remote_work                     0\n",
              "tech_company                    0\n",
              "benefits                        0\n",
              "care_options                    0\n",
              "wellness_program                0\n",
              "seek_help                       0\n",
              "anonymity                       0\n",
              "leave                           0\n",
              "mental_health_consequence       0\n",
              "phys_health_consequence         0\n",
              "coworkers                       0\n",
              "supervisor                      0\n",
              "mental_health_interview         0\n",
              "phys_health_interview           0\n",
              "mental_vs_physical              0\n",
              "obs_consequence                 0\n",
              "comments                     1095\n",
              "dtype: int64"
            ]
          },
          "metadata": {},
          "execution_count": 141
        }
      ]
    },
    {
      "cell_type": "code",
      "source": [
        "df = df.drop(columns = ['state', 'comments'])"
      ],
      "metadata": {
        "id": "6pqS0KLfzm6z"
      },
      "execution_count": 142,
      "outputs": []
    },
    {
      "cell_type": "code",
      "source": [
        "df.work_interfere.unique()"
      ],
      "metadata": {
        "id": "IDHu7w2g3VDb",
        "colab": {
          "base_uri": "https://localhost:8080/"
        },
        "outputId": "fe970af6-d752-41b6-a852-21ea28405139"
      },
      "execution_count": 143,
      "outputs": [
        {
          "output_type": "execute_result",
          "data": {
            "text/plain": [
              "array(['Often', 'Rarely', 'Never', 'Sometimes', nan], dtype=object)"
            ]
          },
          "metadata": {},
          "execution_count": 143
        }
      ]
    },
    {
      "cell_type": "code",
      "source": [
        "print(df.work_interfere.value_counts())"
      ],
      "metadata": {
        "id": "Qwo0_qwq3uvd",
        "colab": {
          "base_uri": "https://localhost:8080/"
        },
        "outputId": "97707d4b-c0a0-4428-a1cb-24ba89c093bf"
      },
      "execution_count": 144,
      "outputs": [
        {
          "output_type": "stream",
          "name": "stdout",
          "text": [
            "Sometimes    465\n",
            "Never        213\n",
            "Rarely       173\n",
            "Often        144\n",
            "Name: work_interfere, dtype: int64\n"
          ]
        }
      ]
    },
    {
      "cell_type": "code",
      "source": [
        "# fill in the missing value in the work_interfere column with 'Sometimes' -- appears more often according to the results above\n",
        "\n",
        "df['work_interfere'] = df['work_interfere'].fillna('Sometimes')\n",
        "df[df.isna().any(axis=1)]"
      ],
      "metadata": {
        "id": "CWXNJn2o6u8t",
        "colab": {
          "base_uri": "https://localhost:8080/",
          "height": 1000
        },
        "outputId": "25700af2-b22a-45b2-d0bf-365a4fa6a365"
      },
      "execution_count": 145,
      "outputs": [
        {
          "output_type": "execute_result",
          "data": {
            "text/plain": [
              "              Timestamp  Age  Gender         Country self_employed  \\\n",
              "0   2014-08-27 11:29:31   37  Female   United States           NaN   \n",
              "1   2014-08-27 11:29:37   44       M   United States           NaN   \n",
              "2   2014-08-27 11:29:44   32    Male          Canada           NaN   \n",
              "3   2014-08-27 11:29:46   31    Male  United Kingdom           NaN   \n",
              "4   2014-08-27 11:30:22   31    Male   United States           NaN   \n",
              "5   2014-08-27 11:31:22   33    Male   United States           NaN   \n",
              "6   2014-08-27 11:31:50   35  Female   United States           NaN   \n",
              "7   2014-08-27 11:32:05   39       M          Canada           NaN   \n",
              "8   2014-08-27 11:32:39   42  Female   United States           NaN   \n",
              "9   2014-08-27 11:32:43   23    Male          Canada           NaN   \n",
              "10  2014-08-27 11:32:44   31    Male   United States           NaN   \n",
              "11  2014-08-27 11:32:49   29    male        Bulgaria           NaN   \n",
              "12  2014-08-27 11:33:23   42  female   United States           NaN   \n",
              "13  2014-08-27 11:33:26   36    Male   United States           NaN   \n",
              "14  2014-08-27 11:33:57   27    Male          Canada           NaN   \n",
              "15  2014-08-27 11:34:00   29  female   United States           NaN   \n",
              "16  2014-08-27 11:34:20   23    Male  United Kingdom           NaN   \n",
              "17  2014-08-27 11:34:37   32    Male   United States           NaN   \n",
              "\n",
              "   family_history treatment work_interfere    no_employees remote_work  ...  \\\n",
              "0              No       Yes          Often            6-25          No  ...   \n",
              "1              No        No         Rarely  More than 1000          No  ...   \n",
              "2              No        No         Rarely            6-25          No  ...   \n",
              "3             Yes       Yes          Often          26-100          No  ...   \n",
              "4              No        No          Never         100-500         Yes  ...   \n",
              "5             Yes        No      Sometimes            6-25          No  ...   \n",
              "6             Yes       Yes      Sometimes             1-5         Yes  ...   \n",
              "7              No        No          Never             1-5         Yes  ...   \n",
              "8             Yes       Yes      Sometimes         100-500          No  ...   \n",
              "9              No        No          Never          26-100          No  ...   \n",
              "10             No       Yes      Sometimes            6-25         Yes  ...   \n",
              "11             No        No          Never         100-500         Yes  ...   \n",
              "12            Yes       Yes      Sometimes          26-100          No  ...   \n",
              "13            Yes        No          Never        500-1000          No  ...   \n",
              "14             No        No          Never            6-25          No  ...   \n",
              "15            Yes       Yes         Rarely          26-100          No  ...   \n",
              "16             No       Yes      Sometimes          26-100         Yes  ...   \n",
              "17             No       Yes      Sometimes            6-25          No  ...   \n",
              "\n",
              "     anonymity               leave mental_health_consequence  \\\n",
              "0          Yes       Somewhat easy                        No   \n",
              "1   Don't know          Don't know                     Maybe   \n",
              "2   Don't know  Somewhat difficult                        No   \n",
              "3           No  Somewhat difficult                       Yes   \n",
              "4   Don't know          Don't know                        No   \n",
              "5   Don't know          Don't know                        No   \n",
              "6           No  Somewhat difficult                     Maybe   \n",
              "7          Yes          Don't know                        No   \n",
              "8           No      Very difficult                     Maybe   \n",
              "9   Don't know          Don't know                        No   \n",
              "10  Don't know          Don't know                        No   \n",
              "11  Don't know          Don't know                        No   \n",
              "12  Don't know  Somewhat difficult                       Yes   \n",
              "13  Don't know          Don't know                        No   \n",
              "14  Don't know       Somewhat easy                        No   \n",
              "15  Don't know       Somewhat easy                        No   \n",
              "16  Don't know           Very easy                     Maybe   \n",
              "17  Don't know          Don't know                     Maybe   \n",
              "\n",
              "   phys_health_consequence     coworkers    supervisor  \\\n",
              "0                       No  Some of them           Yes   \n",
              "1                       No            No            No   \n",
              "2                       No           Yes           Yes   \n",
              "3                      Yes  Some of them            No   \n",
              "4                       No  Some of them           Yes   \n",
              "5                       No           Yes           Yes   \n",
              "6                    Maybe  Some of them            No   \n",
              "7                       No            No            No   \n",
              "8                       No           Yes           Yes   \n",
              "9                       No           Yes           Yes   \n",
              "10                      No  Some of them           Yes   \n",
              "11                      No           Yes           Yes   \n",
              "12                     Yes           Yes           Yes   \n",
              "13                      No           Yes           Yes   \n",
              "14                      No  Some of them  Some of them   \n",
              "15                      No           Yes  Some of them   \n",
              "16                      No  Some of them            No   \n",
              "17                      No  Some of them           Yes   \n",
              "\n",
              "   mental_health_interview phys_health_interview mental_vs_physical  \\\n",
              "0                       No                 Maybe                Yes   \n",
              "1                       No                    No         Don't know   \n",
              "2                      Yes                   Yes                 No   \n",
              "3                    Maybe                 Maybe                 No   \n",
              "4                      Yes                   Yes         Don't know   \n",
              "5                       No                 Maybe         Don't know   \n",
              "6                       No                    No         Don't know   \n",
              "7                       No                    No                 No   \n",
              "8                       No                 Maybe                 No   \n",
              "9                    Maybe                 Maybe                Yes   \n",
              "10                      No                    No         Don't know   \n",
              "11                     Yes                   Yes         Don't know   \n",
              "12                   Maybe                 Maybe                 No   \n",
              "13                      No                    No         Don't know   \n",
              "14                   Maybe                   Yes                Yes   \n",
              "15                   Maybe                 Maybe         Don't know   \n",
              "16                   Maybe                 Maybe                 No   \n",
              "17                      No                    No                 No   \n",
              "\n",
              "   obs_consequence  \n",
              "0               No  \n",
              "1               No  \n",
              "2               No  \n",
              "3              Yes  \n",
              "4               No  \n",
              "5               No  \n",
              "6               No  \n",
              "7               No  \n",
              "8               No  \n",
              "9               No  \n",
              "10              No  \n",
              "11              No  \n",
              "12             Yes  \n",
              "13              No  \n",
              "14              No  \n",
              "15              No  \n",
              "16              No  \n",
              "17              No  \n",
              "\n",
              "[18 rows x 25 columns]"
            ],
            "text/html": [
              "\n",
              "  <div id=\"df-53a9b3e3-ff49-4799-b7a7-14da861a28cb\">\n",
              "    <div class=\"colab-df-container\">\n",
              "      <div>\n",
              "<style scoped>\n",
              "    .dataframe tbody tr th:only-of-type {\n",
              "        vertical-align: middle;\n",
              "    }\n",
              "\n",
              "    .dataframe tbody tr th {\n",
              "        vertical-align: top;\n",
              "    }\n",
              "\n",
              "    .dataframe thead th {\n",
              "        text-align: right;\n",
              "    }\n",
              "</style>\n",
              "<table border=\"1\" class=\"dataframe\">\n",
              "  <thead>\n",
              "    <tr style=\"text-align: right;\">\n",
              "      <th></th>\n",
              "      <th>Timestamp</th>\n",
              "      <th>Age</th>\n",
              "      <th>Gender</th>\n",
              "      <th>Country</th>\n",
              "      <th>self_employed</th>\n",
              "      <th>family_history</th>\n",
              "      <th>treatment</th>\n",
              "      <th>work_interfere</th>\n",
              "      <th>no_employees</th>\n",
              "      <th>remote_work</th>\n",
              "      <th>...</th>\n",
              "      <th>anonymity</th>\n",
              "      <th>leave</th>\n",
              "      <th>mental_health_consequence</th>\n",
              "      <th>phys_health_consequence</th>\n",
              "      <th>coworkers</th>\n",
              "      <th>supervisor</th>\n",
              "      <th>mental_health_interview</th>\n",
              "      <th>phys_health_interview</th>\n",
              "      <th>mental_vs_physical</th>\n",
              "      <th>obs_consequence</th>\n",
              "    </tr>\n",
              "  </thead>\n",
              "  <tbody>\n",
              "    <tr>\n",
              "      <th>0</th>\n",
              "      <td>2014-08-27 11:29:31</td>\n",
              "      <td>37</td>\n",
              "      <td>Female</td>\n",
              "      <td>United States</td>\n",
              "      <td>NaN</td>\n",
              "      <td>No</td>\n",
              "      <td>Yes</td>\n",
              "      <td>Often</td>\n",
              "      <td>6-25</td>\n",
              "      <td>No</td>\n",
              "      <td>...</td>\n",
              "      <td>Yes</td>\n",
              "      <td>Somewhat easy</td>\n",
              "      <td>No</td>\n",
              "      <td>No</td>\n",
              "      <td>Some of them</td>\n",
              "      <td>Yes</td>\n",
              "      <td>No</td>\n",
              "      <td>Maybe</td>\n",
              "      <td>Yes</td>\n",
              "      <td>No</td>\n",
              "    </tr>\n",
              "    <tr>\n",
              "      <th>1</th>\n",
              "      <td>2014-08-27 11:29:37</td>\n",
              "      <td>44</td>\n",
              "      <td>M</td>\n",
              "      <td>United States</td>\n",
              "      <td>NaN</td>\n",
              "      <td>No</td>\n",
              "      <td>No</td>\n",
              "      <td>Rarely</td>\n",
              "      <td>More than 1000</td>\n",
              "      <td>No</td>\n",
              "      <td>...</td>\n",
              "      <td>Don't know</td>\n",
              "      <td>Don't know</td>\n",
              "      <td>Maybe</td>\n",
              "      <td>No</td>\n",
              "      <td>No</td>\n",
              "      <td>No</td>\n",
              "      <td>No</td>\n",
              "      <td>No</td>\n",
              "      <td>Don't know</td>\n",
              "      <td>No</td>\n",
              "    </tr>\n",
              "    <tr>\n",
              "      <th>2</th>\n",
              "      <td>2014-08-27 11:29:44</td>\n",
              "      <td>32</td>\n",
              "      <td>Male</td>\n",
              "      <td>Canada</td>\n",
              "      <td>NaN</td>\n",
              "      <td>No</td>\n",
              "      <td>No</td>\n",
              "      <td>Rarely</td>\n",
              "      <td>6-25</td>\n",
              "      <td>No</td>\n",
              "      <td>...</td>\n",
              "      <td>Don't know</td>\n",
              "      <td>Somewhat difficult</td>\n",
              "      <td>No</td>\n",
              "      <td>No</td>\n",
              "      <td>Yes</td>\n",
              "      <td>Yes</td>\n",
              "      <td>Yes</td>\n",
              "      <td>Yes</td>\n",
              "      <td>No</td>\n",
              "      <td>No</td>\n",
              "    </tr>\n",
              "    <tr>\n",
              "      <th>3</th>\n",
              "      <td>2014-08-27 11:29:46</td>\n",
              "      <td>31</td>\n",
              "      <td>Male</td>\n",
              "      <td>United Kingdom</td>\n",
              "      <td>NaN</td>\n",
              "      <td>Yes</td>\n",
              "      <td>Yes</td>\n",
              "      <td>Often</td>\n",
              "      <td>26-100</td>\n",
              "      <td>No</td>\n",
              "      <td>...</td>\n",
              "      <td>No</td>\n",
              "      <td>Somewhat difficult</td>\n",
              "      <td>Yes</td>\n",
              "      <td>Yes</td>\n",
              "      <td>Some of them</td>\n",
              "      <td>No</td>\n",
              "      <td>Maybe</td>\n",
              "      <td>Maybe</td>\n",
              "      <td>No</td>\n",
              "      <td>Yes</td>\n",
              "    </tr>\n",
              "    <tr>\n",
              "      <th>4</th>\n",
              "      <td>2014-08-27 11:30:22</td>\n",
              "      <td>31</td>\n",
              "      <td>Male</td>\n",
              "      <td>United States</td>\n",
              "      <td>NaN</td>\n",
              "      <td>No</td>\n",
              "      <td>No</td>\n",
              "      <td>Never</td>\n",
              "      <td>100-500</td>\n",
              "      <td>Yes</td>\n",
              "      <td>...</td>\n",
              "      <td>Don't know</td>\n",
              "      <td>Don't know</td>\n",
              "      <td>No</td>\n",
              "      <td>No</td>\n",
              "      <td>Some of them</td>\n",
              "      <td>Yes</td>\n",
              "      <td>Yes</td>\n",
              "      <td>Yes</td>\n",
              "      <td>Don't know</td>\n",
              "      <td>No</td>\n",
              "    </tr>\n",
              "    <tr>\n",
              "      <th>5</th>\n",
              "      <td>2014-08-27 11:31:22</td>\n",
              "      <td>33</td>\n",
              "      <td>Male</td>\n",
              "      <td>United States</td>\n",
              "      <td>NaN</td>\n",
              "      <td>Yes</td>\n",
              "      <td>No</td>\n",
              "      <td>Sometimes</td>\n",
              "      <td>6-25</td>\n",
              "      <td>No</td>\n",
              "      <td>...</td>\n",
              "      <td>Don't know</td>\n",
              "      <td>Don't know</td>\n",
              "      <td>No</td>\n",
              "      <td>No</td>\n",
              "      <td>Yes</td>\n",
              "      <td>Yes</td>\n",
              "      <td>No</td>\n",
              "      <td>Maybe</td>\n",
              "      <td>Don't know</td>\n",
              "      <td>No</td>\n",
              "    </tr>\n",
              "    <tr>\n",
              "      <th>6</th>\n",
              "      <td>2014-08-27 11:31:50</td>\n",
              "      <td>35</td>\n",
              "      <td>Female</td>\n",
              "      <td>United States</td>\n",
              "      <td>NaN</td>\n",
              "      <td>Yes</td>\n",
              "      <td>Yes</td>\n",
              "      <td>Sometimes</td>\n",
              "      <td>1-5</td>\n",
              "      <td>Yes</td>\n",
              "      <td>...</td>\n",
              "      <td>No</td>\n",
              "      <td>Somewhat difficult</td>\n",
              "      <td>Maybe</td>\n",
              "      <td>Maybe</td>\n",
              "      <td>Some of them</td>\n",
              "      <td>No</td>\n",
              "      <td>No</td>\n",
              "      <td>No</td>\n",
              "      <td>Don't know</td>\n",
              "      <td>No</td>\n",
              "    </tr>\n",
              "    <tr>\n",
              "      <th>7</th>\n",
              "      <td>2014-08-27 11:32:05</td>\n",
              "      <td>39</td>\n",
              "      <td>M</td>\n",
              "      <td>Canada</td>\n",
              "      <td>NaN</td>\n",
              "      <td>No</td>\n",
              "      <td>No</td>\n",
              "      <td>Never</td>\n",
              "      <td>1-5</td>\n",
              "      <td>Yes</td>\n",
              "      <td>...</td>\n",
              "      <td>Yes</td>\n",
              "      <td>Don't know</td>\n",
              "      <td>No</td>\n",
              "      <td>No</td>\n",
              "      <td>No</td>\n",
              "      <td>No</td>\n",
              "      <td>No</td>\n",
              "      <td>No</td>\n",
              "      <td>No</td>\n",
              "      <td>No</td>\n",
              "    </tr>\n",
              "    <tr>\n",
              "      <th>8</th>\n",
              "      <td>2014-08-27 11:32:39</td>\n",
              "      <td>42</td>\n",
              "      <td>Female</td>\n",
              "      <td>United States</td>\n",
              "      <td>NaN</td>\n",
              "      <td>Yes</td>\n",
              "      <td>Yes</td>\n",
              "      <td>Sometimes</td>\n",
              "      <td>100-500</td>\n",
              "      <td>No</td>\n",
              "      <td>...</td>\n",
              "      <td>No</td>\n",
              "      <td>Very difficult</td>\n",
              "      <td>Maybe</td>\n",
              "      <td>No</td>\n",
              "      <td>Yes</td>\n",
              "      <td>Yes</td>\n",
              "      <td>No</td>\n",
              "      <td>Maybe</td>\n",
              "      <td>No</td>\n",
              "      <td>No</td>\n",
              "    </tr>\n",
              "    <tr>\n",
              "      <th>9</th>\n",
              "      <td>2014-08-27 11:32:43</td>\n",
              "      <td>23</td>\n",
              "      <td>Male</td>\n",
              "      <td>Canada</td>\n",
              "      <td>NaN</td>\n",
              "      <td>No</td>\n",
              "      <td>No</td>\n",
              "      <td>Never</td>\n",
              "      <td>26-100</td>\n",
              "      <td>No</td>\n",
              "      <td>...</td>\n",
              "      <td>Don't know</td>\n",
              "      <td>Don't know</td>\n",
              "      <td>No</td>\n",
              "      <td>No</td>\n",
              "      <td>Yes</td>\n",
              "      <td>Yes</td>\n",
              "      <td>Maybe</td>\n",
              "      <td>Maybe</td>\n",
              "      <td>Yes</td>\n",
              "      <td>No</td>\n",
              "    </tr>\n",
              "    <tr>\n",
              "      <th>10</th>\n",
              "      <td>2014-08-27 11:32:44</td>\n",
              "      <td>31</td>\n",
              "      <td>Male</td>\n",
              "      <td>United States</td>\n",
              "      <td>NaN</td>\n",
              "      <td>No</td>\n",
              "      <td>Yes</td>\n",
              "      <td>Sometimes</td>\n",
              "      <td>6-25</td>\n",
              "      <td>Yes</td>\n",
              "      <td>...</td>\n",
              "      <td>Don't know</td>\n",
              "      <td>Don't know</td>\n",
              "      <td>No</td>\n",
              "      <td>No</td>\n",
              "      <td>Some of them</td>\n",
              "      <td>Yes</td>\n",
              "      <td>No</td>\n",
              "      <td>No</td>\n",
              "      <td>Don't know</td>\n",
              "      <td>No</td>\n",
              "    </tr>\n",
              "    <tr>\n",
              "      <th>11</th>\n",
              "      <td>2014-08-27 11:32:49</td>\n",
              "      <td>29</td>\n",
              "      <td>male</td>\n",
              "      <td>Bulgaria</td>\n",
              "      <td>NaN</td>\n",
              "      <td>No</td>\n",
              "      <td>No</td>\n",
              "      <td>Never</td>\n",
              "      <td>100-500</td>\n",
              "      <td>Yes</td>\n",
              "      <td>...</td>\n",
              "      <td>Don't know</td>\n",
              "      <td>Don't know</td>\n",
              "      <td>No</td>\n",
              "      <td>No</td>\n",
              "      <td>Yes</td>\n",
              "      <td>Yes</td>\n",
              "      <td>Yes</td>\n",
              "      <td>Yes</td>\n",
              "      <td>Don't know</td>\n",
              "      <td>No</td>\n",
              "    </tr>\n",
              "    <tr>\n",
              "      <th>12</th>\n",
              "      <td>2014-08-27 11:33:23</td>\n",
              "      <td>42</td>\n",
              "      <td>female</td>\n",
              "      <td>United States</td>\n",
              "      <td>NaN</td>\n",
              "      <td>Yes</td>\n",
              "      <td>Yes</td>\n",
              "      <td>Sometimes</td>\n",
              "      <td>26-100</td>\n",
              "      <td>No</td>\n",
              "      <td>...</td>\n",
              "      <td>Don't know</td>\n",
              "      <td>Somewhat difficult</td>\n",
              "      <td>Yes</td>\n",
              "      <td>Yes</td>\n",
              "      <td>Yes</td>\n",
              "      <td>Yes</td>\n",
              "      <td>Maybe</td>\n",
              "      <td>Maybe</td>\n",
              "      <td>No</td>\n",
              "      <td>Yes</td>\n",
              "    </tr>\n",
              "    <tr>\n",
              "      <th>13</th>\n",
              "      <td>2014-08-27 11:33:26</td>\n",
              "      <td>36</td>\n",
              "      <td>Male</td>\n",
              "      <td>United States</td>\n",
              "      <td>NaN</td>\n",
              "      <td>Yes</td>\n",
              "      <td>No</td>\n",
              "      <td>Never</td>\n",
              "      <td>500-1000</td>\n",
              "      <td>No</td>\n",
              "      <td>...</td>\n",
              "      <td>Don't know</td>\n",
              "      <td>Don't know</td>\n",
              "      <td>No</td>\n",
              "      <td>No</td>\n",
              "      <td>Yes</td>\n",
              "      <td>Yes</td>\n",
              "      <td>No</td>\n",
              "      <td>No</td>\n",
              "      <td>Don't know</td>\n",
              "      <td>No</td>\n",
              "    </tr>\n",
              "    <tr>\n",
              "      <th>14</th>\n",
              "      <td>2014-08-27 11:33:57</td>\n",
              "      <td>27</td>\n",
              "      <td>Male</td>\n",
              "      <td>Canada</td>\n",
              "      <td>NaN</td>\n",
              "      <td>No</td>\n",
              "      <td>No</td>\n",
              "      <td>Never</td>\n",
              "      <td>6-25</td>\n",
              "      <td>No</td>\n",
              "      <td>...</td>\n",
              "      <td>Don't know</td>\n",
              "      <td>Somewhat easy</td>\n",
              "      <td>No</td>\n",
              "      <td>No</td>\n",
              "      <td>Some of them</td>\n",
              "      <td>Some of them</td>\n",
              "      <td>Maybe</td>\n",
              "      <td>Yes</td>\n",
              "      <td>Yes</td>\n",
              "      <td>No</td>\n",
              "    </tr>\n",
              "    <tr>\n",
              "      <th>15</th>\n",
              "      <td>2014-08-27 11:34:00</td>\n",
              "      <td>29</td>\n",
              "      <td>female</td>\n",
              "      <td>United States</td>\n",
              "      <td>NaN</td>\n",
              "      <td>Yes</td>\n",
              "      <td>Yes</td>\n",
              "      <td>Rarely</td>\n",
              "      <td>26-100</td>\n",
              "      <td>No</td>\n",
              "      <td>...</td>\n",
              "      <td>Don't know</td>\n",
              "      <td>Somewhat easy</td>\n",
              "      <td>No</td>\n",
              "      <td>No</td>\n",
              "      <td>Yes</td>\n",
              "      <td>Some of them</td>\n",
              "      <td>Maybe</td>\n",
              "      <td>Maybe</td>\n",
              "      <td>Don't know</td>\n",
              "      <td>No</td>\n",
              "    </tr>\n",
              "    <tr>\n",
              "      <th>16</th>\n",
              "      <td>2014-08-27 11:34:20</td>\n",
              "      <td>23</td>\n",
              "      <td>Male</td>\n",
              "      <td>United Kingdom</td>\n",
              "      <td>NaN</td>\n",
              "      <td>No</td>\n",
              "      <td>Yes</td>\n",
              "      <td>Sometimes</td>\n",
              "      <td>26-100</td>\n",
              "      <td>Yes</td>\n",
              "      <td>...</td>\n",
              "      <td>Don't know</td>\n",
              "      <td>Very easy</td>\n",
              "      <td>Maybe</td>\n",
              "      <td>No</td>\n",
              "      <td>Some of them</td>\n",
              "      <td>No</td>\n",
              "      <td>Maybe</td>\n",
              "      <td>Maybe</td>\n",
              "      <td>No</td>\n",
              "      <td>No</td>\n",
              "    </tr>\n",
              "    <tr>\n",
              "      <th>17</th>\n",
              "      <td>2014-08-27 11:34:37</td>\n",
              "      <td>32</td>\n",
              "      <td>Male</td>\n",
              "      <td>United States</td>\n",
              "      <td>NaN</td>\n",
              "      <td>No</td>\n",
              "      <td>Yes</td>\n",
              "      <td>Sometimes</td>\n",
              "      <td>6-25</td>\n",
              "      <td>No</td>\n",
              "      <td>...</td>\n",
              "      <td>Don't know</td>\n",
              "      <td>Don't know</td>\n",
              "      <td>Maybe</td>\n",
              "      <td>No</td>\n",
              "      <td>Some of them</td>\n",
              "      <td>Yes</td>\n",
              "      <td>No</td>\n",
              "      <td>No</td>\n",
              "      <td>No</td>\n",
              "      <td>No</td>\n",
              "    </tr>\n",
              "  </tbody>\n",
              "</table>\n",
              "<p>18 rows × 25 columns</p>\n",
              "</div>\n",
              "      <button class=\"colab-df-convert\" onclick=\"convertToInteractive('df-53a9b3e3-ff49-4799-b7a7-14da861a28cb')\"\n",
              "              title=\"Convert this dataframe to an interactive table.\"\n",
              "              style=\"display:none;\">\n",
              "        \n",
              "  <svg xmlns=\"http://www.w3.org/2000/svg\" height=\"24px\"viewBox=\"0 0 24 24\"\n",
              "       width=\"24px\">\n",
              "    <path d=\"M0 0h24v24H0V0z\" fill=\"none\"/>\n",
              "    <path d=\"M18.56 5.44l.94 2.06.94-2.06 2.06-.94-2.06-.94-.94-2.06-.94 2.06-2.06.94zm-11 1L8.5 8.5l.94-2.06 2.06-.94-2.06-.94L8.5 2.5l-.94 2.06-2.06.94zm10 10l.94 2.06.94-2.06 2.06-.94-2.06-.94-.94-2.06-.94 2.06-2.06.94z\"/><path d=\"M17.41 7.96l-1.37-1.37c-.4-.4-.92-.59-1.43-.59-.52 0-1.04.2-1.43.59L10.3 9.45l-7.72 7.72c-.78.78-.78 2.05 0 2.83L4 21.41c.39.39.9.59 1.41.59.51 0 1.02-.2 1.41-.59l7.78-7.78 2.81-2.81c.8-.78.8-2.07 0-2.86zM5.41 20L4 18.59l7.72-7.72 1.47 1.35L5.41 20z\"/>\n",
              "  </svg>\n",
              "      </button>\n",
              "      \n",
              "  <style>\n",
              "    .colab-df-container {\n",
              "      display:flex;\n",
              "      flex-wrap:wrap;\n",
              "      gap: 12px;\n",
              "    }\n",
              "\n",
              "    .colab-df-convert {\n",
              "      background-color: #E8F0FE;\n",
              "      border: none;\n",
              "      border-radius: 50%;\n",
              "      cursor: pointer;\n",
              "      display: none;\n",
              "      fill: #1967D2;\n",
              "      height: 32px;\n",
              "      padding: 0 0 0 0;\n",
              "      width: 32px;\n",
              "    }\n",
              "\n",
              "    .colab-df-convert:hover {\n",
              "      background-color: #E2EBFA;\n",
              "      box-shadow: 0px 1px 2px rgba(60, 64, 67, 0.3), 0px 1px 3px 1px rgba(60, 64, 67, 0.15);\n",
              "      fill: #174EA6;\n",
              "    }\n",
              "\n",
              "    [theme=dark] .colab-df-convert {\n",
              "      background-color: #3B4455;\n",
              "      fill: #D2E3FC;\n",
              "    }\n",
              "\n",
              "    [theme=dark] .colab-df-convert:hover {\n",
              "      background-color: #434B5C;\n",
              "      box-shadow: 0px 1px 3px 1px rgba(0, 0, 0, 0.15);\n",
              "      filter: drop-shadow(0px 1px 2px rgba(0, 0, 0, 0.3));\n",
              "      fill: #FFFFFF;\n",
              "    }\n",
              "  </style>\n",
              "\n",
              "      <script>\n",
              "        const buttonEl =\n",
              "          document.querySelector('#df-53a9b3e3-ff49-4799-b7a7-14da861a28cb button.colab-df-convert');\n",
              "        buttonEl.style.display =\n",
              "          google.colab.kernel.accessAllowed ? 'block' : 'none';\n",
              "\n",
              "        async function convertToInteractive(key) {\n",
              "          const element = document.querySelector('#df-53a9b3e3-ff49-4799-b7a7-14da861a28cb');\n",
              "          const dataTable =\n",
              "            await google.colab.kernel.invokeFunction('convertToInteractive',\n",
              "                                                     [key], {});\n",
              "          if (!dataTable) return;\n",
              "\n",
              "          const docLinkHtml = 'Like what you see? Visit the ' +\n",
              "            '<a target=\"_blank\" href=https://colab.research.google.com/notebooks/data_table.ipynb>data table notebook</a>'\n",
              "            + ' to learn more about interactive tables.';\n",
              "          element.innerHTML = '';\n",
              "          dataTable['output_type'] = 'display_data';\n",
              "          await google.colab.output.renderOutput(dataTable, element);\n",
              "          const docLink = document.createElement('div');\n",
              "          docLink.innerHTML = docLinkHtml;\n",
              "          element.appendChild(docLink);\n",
              "        }\n",
              "      </script>\n",
              "    </div>\n",
              "  </div>\n",
              "  "
            ]
          },
          "metadata": {},
          "execution_count": 145
        }
      ]
    },
    {
      "cell_type": "code",
      "source": [
        "df.self_employed.unique()"
      ],
      "metadata": {
        "id": "sH6Vj8BL7L6Z",
        "colab": {
          "base_uri": "https://localhost:8080/"
        },
        "outputId": "994d46e9-0b61-4f03-b327-b72c4692f047"
      },
      "execution_count": 146,
      "outputs": [
        {
          "output_type": "execute_result",
          "data": {
            "text/plain": [
              "array([nan, 'Yes', 'No'], dtype=object)"
            ]
          },
          "metadata": {},
          "execution_count": 146
        }
      ]
    },
    {
      "cell_type": "code",
      "source": [
        "print(df.self_employed.value_counts())"
      ],
      "metadata": {
        "id": "CWCJeont71pd",
        "colab": {
          "base_uri": "https://localhost:8080/"
        },
        "outputId": "a164164a-3d07-4ee1-c077-38cf5db3e60d"
      },
      "execution_count": 147,
      "outputs": [
        {
          "output_type": "stream",
          "name": "stdout",
          "text": [
            "No     1095\n",
            "Yes     146\n",
            "Name: self_employed, dtype: int64\n"
          ]
        }
      ]
    },
    {
      "cell_type": "code",
      "source": [
        "# fill in the missing value in the self_employed column with 'No' -- appears more often according to the results above\n",
        "\n",
        "df['self_employed'] = df['self_employed'].fillna('No')\n",
        "df[df.isna().any(axis=1)]"
      ],
      "metadata": {
        "id": "X-UK3f9q78-B",
        "colab": {
          "base_uri": "https://localhost:8080/",
          "height": 143
        },
        "outputId": "54c3e6c3-9f08-49c6-e37b-c91a0154c5ec"
      },
      "execution_count": 148,
      "outputs": [
        {
          "output_type": "execute_result",
          "data": {
            "text/plain": [
              "Empty DataFrame\n",
              "Columns: [Timestamp, Age, Gender, Country, self_employed, family_history, treatment, work_interfere, no_employees, remote_work, tech_company, benefits, care_options, wellness_program, seek_help, anonymity, leave, mental_health_consequence, phys_health_consequence, coworkers, supervisor, mental_health_interview, phys_health_interview, mental_vs_physical, obs_consequence]\n",
              "Index: []\n",
              "\n",
              "[0 rows x 25 columns]"
            ],
            "text/html": [
              "\n",
              "  <div id=\"df-2bcfe930-c9cd-45b2-9010-8c24378ff53f\">\n",
              "    <div class=\"colab-df-container\">\n",
              "      <div>\n",
              "<style scoped>\n",
              "    .dataframe tbody tr th:only-of-type {\n",
              "        vertical-align: middle;\n",
              "    }\n",
              "\n",
              "    .dataframe tbody tr th {\n",
              "        vertical-align: top;\n",
              "    }\n",
              "\n",
              "    .dataframe thead th {\n",
              "        text-align: right;\n",
              "    }\n",
              "</style>\n",
              "<table border=\"1\" class=\"dataframe\">\n",
              "  <thead>\n",
              "    <tr style=\"text-align: right;\">\n",
              "      <th></th>\n",
              "      <th>Timestamp</th>\n",
              "      <th>Age</th>\n",
              "      <th>Gender</th>\n",
              "      <th>Country</th>\n",
              "      <th>self_employed</th>\n",
              "      <th>family_history</th>\n",
              "      <th>treatment</th>\n",
              "      <th>work_interfere</th>\n",
              "      <th>no_employees</th>\n",
              "      <th>remote_work</th>\n",
              "      <th>...</th>\n",
              "      <th>anonymity</th>\n",
              "      <th>leave</th>\n",
              "      <th>mental_health_consequence</th>\n",
              "      <th>phys_health_consequence</th>\n",
              "      <th>coworkers</th>\n",
              "      <th>supervisor</th>\n",
              "      <th>mental_health_interview</th>\n",
              "      <th>phys_health_interview</th>\n",
              "      <th>mental_vs_physical</th>\n",
              "      <th>obs_consequence</th>\n",
              "    </tr>\n",
              "  </thead>\n",
              "  <tbody>\n",
              "  </tbody>\n",
              "</table>\n",
              "<p>0 rows × 25 columns</p>\n",
              "</div>\n",
              "      <button class=\"colab-df-convert\" onclick=\"convertToInteractive('df-2bcfe930-c9cd-45b2-9010-8c24378ff53f')\"\n",
              "              title=\"Convert this dataframe to an interactive table.\"\n",
              "              style=\"display:none;\">\n",
              "        \n",
              "  <svg xmlns=\"http://www.w3.org/2000/svg\" height=\"24px\"viewBox=\"0 0 24 24\"\n",
              "       width=\"24px\">\n",
              "    <path d=\"M0 0h24v24H0V0z\" fill=\"none\"/>\n",
              "    <path d=\"M18.56 5.44l.94 2.06.94-2.06 2.06-.94-2.06-.94-.94-2.06-.94 2.06-2.06.94zm-11 1L8.5 8.5l.94-2.06 2.06-.94-2.06-.94L8.5 2.5l-.94 2.06-2.06.94zm10 10l.94 2.06.94-2.06 2.06-.94-2.06-.94-.94-2.06-.94 2.06-2.06.94z\"/><path d=\"M17.41 7.96l-1.37-1.37c-.4-.4-.92-.59-1.43-.59-.52 0-1.04.2-1.43.59L10.3 9.45l-7.72 7.72c-.78.78-.78 2.05 0 2.83L4 21.41c.39.39.9.59 1.41.59.51 0 1.02-.2 1.41-.59l7.78-7.78 2.81-2.81c.8-.78.8-2.07 0-2.86zM5.41 20L4 18.59l7.72-7.72 1.47 1.35L5.41 20z\"/>\n",
              "  </svg>\n",
              "      </button>\n",
              "      \n",
              "  <style>\n",
              "    .colab-df-container {\n",
              "      display:flex;\n",
              "      flex-wrap:wrap;\n",
              "      gap: 12px;\n",
              "    }\n",
              "\n",
              "    .colab-df-convert {\n",
              "      background-color: #E8F0FE;\n",
              "      border: none;\n",
              "      border-radius: 50%;\n",
              "      cursor: pointer;\n",
              "      display: none;\n",
              "      fill: #1967D2;\n",
              "      height: 32px;\n",
              "      padding: 0 0 0 0;\n",
              "      width: 32px;\n",
              "    }\n",
              "\n",
              "    .colab-df-convert:hover {\n",
              "      background-color: #E2EBFA;\n",
              "      box-shadow: 0px 1px 2px rgba(60, 64, 67, 0.3), 0px 1px 3px 1px rgba(60, 64, 67, 0.15);\n",
              "      fill: #174EA6;\n",
              "    }\n",
              "\n",
              "    [theme=dark] .colab-df-convert {\n",
              "      background-color: #3B4455;\n",
              "      fill: #D2E3FC;\n",
              "    }\n",
              "\n",
              "    [theme=dark] .colab-df-convert:hover {\n",
              "      background-color: #434B5C;\n",
              "      box-shadow: 0px 1px 3px 1px rgba(0, 0, 0, 0.15);\n",
              "      filter: drop-shadow(0px 1px 2px rgba(0, 0, 0, 0.3));\n",
              "      fill: #FFFFFF;\n",
              "    }\n",
              "  </style>\n",
              "\n",
              "      <script>\n",
              "        const buttonEl =\n",
              "          document.querySelector('#df-2bcfe930-c9cd-45b2-9010-8c24378ff53f button.colab-df-convert');\n",
              "        buttonEl.style.display =\n",
              "          google.colab.kernel.accessAllowed ? 'block' : 'none';\n",
              "\n",
              "        async function convertToInteractive(key) {\n",
              "          const element = document.querySelector('#df-2bcfe930-c9cd-45b2-9010-8c24378ff53f');\n",
              "          const dataTable =\n",
              "            await google.colab.kernel.invokeFunction('convertToInteractive',\n",
              "                                                     [key], {});\n",
              "          if (!dataTable) return;\n",
              "\n",
              "          const docLinkHtml = 'Like what you see? Visit the ' +\n",
              "            '<a target=\"_blank\" href=https://colab.research.google.com/notebooks/data_table.ipynb>data table notebook</a>'\n",
              "            + ' to learn more about interactive tables.';\n",
              "          element.innerHTML = '';\n",
              "          dataTable['output_type'] = 'display_data';\n",
              "          await google.colab.output.renderOutput(dataTable, element);\n",
              "          const docLink = document.createElement('div');\n",
              "          docLink.innerHTML = docLinkHtml;\n",
              "          element.appendChild(docLink);\n",
              "        }\n",
              "      </script>\n",
              "    </div>\n",
              "  </div>\n",
              "  "
            ]
          },
          "metadata": {},
          "execution_count": 148
        }
      ]
    },
    {
      "cell_type": "code",
      "source": [
        "df.isnull().sum()"
      ],
      "metadata": {
        "id": "j1Jynbur8K9C",
        "colab": {
          "base_uri": "https://localhost:8080/"
        },
        "outputId": "8c7c40f4-4537-4c74-fa5a-3aac97ed2857"
      },
      "execution_count": 149,
      "outputs": [
        {
          "output_type": "execute_result",
          "data": {
            "text/plain": [
              "Timestamp                    0\n",
              "Age                          0\n",
              "Gender                       0\n",
              "Country                      0\n",
              "self_employed                0\n",
              "family_history               0\n",
              "treatment                    0\n",
              "work_interfere               0\n",
              "no_employees                 0\n",
              "remote_work                  0\n",
              "tech_company                 0\n",
              "benefits                     0\n",
              "care_options                 0\n",
              "wellness_program             0\n",
              "seek_help                    0\n",
              "anonymity                    0\n",
              "leave                        0\n",
              "mental_health_consequence    0\n",
              "phys_health_consequence      0\n",
              "coworkers                    0\n",
              "supervisor                   0\n",
              "mental_health_interview      0\n",
              "phys_health_interview        0\n",
              "mental_vs_physical           0\n",
              "obs_consequence              0\n",
              "dtype: int64"
            ]
          },
          "metadata": {},
          "execution_count": 149
        }
      ]
    },
    {
      "cell_type": "code",
      "source": [
        "df.Gender.unique()\n",
        "\n",
        "print(df.Gender.value_counts())"
      ],
      "metadata": {
        "id": "41New6Wf-PZ6",
        "colab": {
          "base_uri": "https://localhost:8080/"
        },
        "outputId": "0370c638-cd45-4b1b-b0de-d3f6c5e950a1"
      },
      "execution_count": 150,
      "outputs": [
        {
          "output_type": "stream",
          "name": "stdout",
          "text": [
            "Male                                              615\n",
            "male                                              206\n",
            "Female                                            121\n",
            "M                                                 116\n",
            "female                                             62\n",
            "F                                                  38\n",
            "m                                                  34\n",
            "f                                                  15\n",
            "Make                                                4\n",
            "Male                                                3\n",
            "Woman                                               3\n",
            "Cis Male                                            2\n",
            "Man                                                 2\n",
            "Female (trans)                                      2\n",
            "Female                                              2\n",
            "Trans woman                                         1\n",
            "msle                                                1\n",
            "male leaning androgynous                            1\n",
            "Neuter                                              1\n",
            "cis male                                            1\n",
            "queer                                               1\n",
            "Female (cis)                                        1\n",
            "Mail                                                1\n",
            "cis-female/femme                                    1\n",
            "A little about you                                  1\n",
            "Malr                                                1\n",
            "p                                                   1\n",
            "femail                                              1\n",
            "Cis Man                                             1\n",
            "Guy (-ish) ^_^                                      1\n",
            "Enby                                                1\n",
            "Agender                                             1\n",
            "Androgyne                                           1\n",
            "Male-ish                                            1\n",
            "maile                                               1\n",
            "Trans-female                                        1\n",
            "Cis Female                                          1\n",
            "something kinda male?                               1\n",
            "Mal                                                 1\n",
            "Male (CIS)                                          1\n",
            "queer/she/they                                      1\n",
            "non-binary                                          1\n",
            "Femake                                              1\n",
            "woman                                               1\n",
            "Nah                                                 1\n",
            "All                                                 1\n",
            "fluid                                               1\n",
            "Genderqueer                                         1\n",
            "ostensibly male, unsure what that really means      1\n",
            "Name: Gender, dtype: int64\n"
          ]
        }
      ]
    },
    {
      "cell_type": "code",
      "source": [
        "female = ['female', 'f', 'woman', 'female (trans)', 'trans woman', 'female (cis)', 'cis-female/femme', 'femail', 'trans-female', 'cis female', 'queer/she/they', 'femake', 'androgyne']\n",
        "\n",
        "def new_gender(row):\n",
        "  gender = row[\"Gender\"].lower()\n",
        "  if gender in female or \"fe\" in gender:\n",
        "    return \"Female\"\n",
        "  \n",
        "  return \"Male\""
      ],
      "metadata": {
        "id": "fYm_eh1XIxHO"
      },
      "execution_count": 151,
      "outputs": []
    },
    {
      "cell_type": "code",
      "source": [
        "df.Gender = df.apply(lambda row: new_gender(row), axis=1)"
      ],
      "metadata": {
        "id": "SD1xY297JzEf"
      },
      "execution_count": 152,
      "outputs": []
    },
    {
      "cell_type": "code",
      "source": [
        "df.Gender.unique()\n",
        "\n",
        "print(df.Gender.value_counts())"
      ],
      "metadata": {
        "id": "Ou4Petr3Jurl",
        "colab": {
          "base_uri": "https://localhost:8080/"
        },
        "outputId": "003d7f7c-4adf-421f-fcfb-a1c6d759237c"
      },
      "execution_count": 153,
      "outputs": [
        {
          "output_type": "stream",
          "name": "stdout",
          "text": [
            "Male      1006\n",
            "Female     253\n",
            "Name: Gender, dtype: int64\n"
          ]
        }
      ]
    },
    {
      "cell_type": "code",
      "source": [
        "df.Age.unique()"
      ],
      "metadata": {
        "id": "V3_7yttFMh1g",
        "colab": {
          "base_uri": "https://localhost:8080/"
        },
        "outputId": "c6bafac8-a382-4848-9703-42d2bb94ee99"
      },
      "execution_count": 154,
      "outputs": [
        {
          "output_type": "execute_result",
          "data": {
            "text/plain": [
              "array([         37,          44,          32,          31,          33,\n",
              "                35,          39,          42,          23,          29,\n",
              "                36,          27,          46,          41,          34,\n",
              "                30,          40,          38,          50,          24,\n",
              "                18,          28,          26,          22,          19,\n",
              "                25,          45,          21,         -29,          43,\n",
              "                56,          60,          54,         329,          55,\n",
              "       99999999999,          48,          20,          57,          58,\n",
              "                47,          62,          51,          65,          49,\n",
              "             -1726,           5,          53,          61,           8,\n",
              "                11,          -1,          72])"
            ]
          },
          "metadata": {},
          "execution_count": 154
        }
      ]
    },
    {
      "cell_type": "code",
      "source": [
        "df['Age'].replace([df['Age'][df['Age'] < 15]], np.nan, inplace = True)\n",
        "df['Age'].replace([df['Age'][df['Age'] > 65]], np.nan, inplace = True)\n",
        "\n",
        "df['Age'].unique()"
      ],
      "metadata": {
        "id": "G8zmqswmQ77A",
        "colab": {
          "base_uri": "https://localhost:8080/"
        },
        "outputId": "d7d352e3-c01e-4b57-8a99-a69c9d57efbf"
      },
      "execution_count": 155,
      "outputs": [
        {
          "output_type": "execute_result",
          "data": {
            "text/plain": [
              "array([37., 44., 32., 31., 33., 35., 39., 42., 23., 29., 36., 27., 46.,\n",
              "       41., 34., 30., 40., 38., 50., 24., 18., 28., 26., 22., 19., 25.,\n",
              "       45., 21., nan, 43., 56., 60., 54., 55., 48., 20., 57., 58., 47.,\n",
              "       62., 51., 65., 49., 53., 61.])"
            ]
          },
          "metadata": {},
          "execution_count": 155
        }
      ]
    },
    {
      "cell_type": "code",
      "source": [
        "df['Age'].fillna(int(df['Age'].mean()), inplace=True)\n",
        "df.head()"
      ],
      "metadata": {
        "id": "IBXpk6xqW5RJ",
        "colab": {
          "base_uri": "https://localhost:8080/",
          "height": 386
        },
        "outputId": "5a96fd0a-4d32-4372-9fe1-ca07b33caf25"
      },
      "execution_count": 156,
      "outputs": [
        {
          "output_type": "execute_result",
          "data": {
            "text/plain": [
              "             Timestamp   Age  Gender         Country self_employed  \\\n",
              "0  2014-08-27 11:29:31  37.0  Female   United States            No   \n",
              "1  2014-08-27 11:29:37  44.0    Male   United States            No   \n",
              "2  2014-08-27 11:29:44  32.0    Male          Canada            No   \n",
              "3  2014-08-27 11:29:46  31.0    Male  United Kingdom            No   \n",
              "4  2014-08-27 11:30:22  31.0    Male   United States            No   \n",
              "\n",
              "  family_history treatment work_interfere    no_employees remote_work  ...  \\\n",
              "0             No       Yes          Often            6-25          No  ...   \n",
              "1             No        No         Rarely  More than 1000          No  ...   \n",
              "2             No        No         Rarely            6-25          No  ...   \n",
              "3            Yes       Yes          Often          26-100          No  ...   \n",
              "4             No        No          Never         100-500         Yes  ...   \n",
              "\n",
              "    anonymity               leave mental_health_consequence  \\\n",
              "0         Yes       Somewhat easy                        No   \n",
              "1  Don't know          Don't know                     Maybe   \n",
              "2  Don't know  Somewhat difficult                        No   \n",
              "3          No  Somewhat difficult                       Yes   \n",
              "4  Don't know          Don't know                        No   \n",
              "\n",
              "  phys_health_consequence     coworkers supervisor mental_health_interview  \\\n",
              "0                      No  Some of them        Yes                      No   \n",
              "1                      No            No         No                      No   \n",
              "2                      No           Yes        Yes                     Yes   \n",
              "3                     Yes  Some of them         No                   Maybe   \n",
              "4                      No  Some of them        Yes                     Yes   \n",
              "\n",
              "  phys_health_interview mental_vs_physical obs_consequence  \n",
              "0                 Maybe                Yes              No  \n",
              "1                    No         Don't know              No  \n",
              "2                   Yes                 No              No  \n",
              "3                 Maybe                 No             Yes  \n",
              "4                   Yes         Don't know              No  \n",
              "\n",
              "[5 rows x 25 columns]"
            ],
            "text/html": [
              "\n",
              "  <div id=\"df-ee5a4a98-e5d5-4ba4-aa8c-2b1d1b096412\">\n",
              "    <div class=\"colab-df-container\">\n",
              "      <div>\n",
              "<style scoped>\n",
              "    .dataframe tbody tr th:only-of-type {\n",
              "        vertical-align: middle;\n",
              "    }\n",
              "\n",
              "    .dataframe tbody tr th {\n",
              "        vertical-align: top;\n",
              "    }\n",
              "\n",
              "    .dataframe thead th {\n",
              "        text-align: right;\n",
              "    }\n",
              "</style>\n",
              "<table border=\"1\" class=\"dataframe\">\n",
              "  <thead>\n",
              "    <tr style=\"text-align: right;\">\n",
              "      <th></th>\n",
              "      <th>Timestamp</th>\n",
              "      <th>Age</th>\n",
              "      <th>Gender</th>\n",
              "      <th>Country</th>\n",
              "      <th>self_employed</th>\n",
              "      <th>family_history</th>\n",
              "      <th>treatment</th>\n",
              "      <th>work_interfere</th>\n",
              "      <th>no_employees</th>\n",
              "      <th>remote_work</th>\n",
              "      <th>...</th>\n",
              "      <th>anonymity</th>\n",
              "      <th>leave</th>\n",
              "      <th>mental_health_consequence</th>\n",
              "      <th>phys_health_consequence</th>\n",
              "      <th>coworkers</th>\n",
              "      <th>supervisor</th>\n",
              "      <th>mental_health_interview</th>\n",
              "      <th>phys_health_interview</th>\n",
              "      <th>mental_vs_physical</th>\n",
              "      <th>obs_consequence</th>\n",
              "    </tr>\n",
              "  </thead>\n",
              "  <tbody>\n",
              "    <tr>\n",
              "      <th>0</th>\n",
              "      <td>2014-08-27 11:29:31</td>\n",
              "      <td>37.0</td>\n",
              "      <td>Female</td>\n",
              "      <td>United States</td>\n",
              "      <td>No</td>\n",
              "      <td>No</td>\n",
              "      <td>Yes</td>\n",
              "      <td>Often</td>\n",
              "      <td>6-25</td>\n",
              "      <td>No</td>\n",
              "      <td>...</td>\n",
              "      <td>Yes</td>\n",
              "      <td>Somewhat easy</td>\n",
              "      <td>No</td>\n",
              "      <td>No</td>\n",
              "      <td>Some of them</td>\n",
              "      <td>Yes</td>\n",
              "      <td>No</td>\n",
              "      <td>Maybe</td>\n",
              "      <td>Yes</td>\n",
              "      <td>No</td>\n",
              "    </tr>\n",
              "    <tr>\n",
              "      <th>1</th>\n",
              "      <td>2014-08-27 11:29:37</td>\n",
              "      <td>44.0</td>\n",
              "      <td>Male</td>\n",
              "      <td>United States</td>\n",
              "      <td>No</td>\n",
              "      <td>No</td>\n",
              "      <td>No</td>\n",
              "      <td>Rarely</td>\n",
              "      <td>More than 1000</td>\n",
              "      <td>No</td>\n",
              "      <td>...</td>\n",
              "      <td>Don't know</td>\n",
              "      <td>Don't know</td>\n",
              "      <td>Maybe</td>\n",
              "      <td>No</td>\n",
              "      <td>No</td>\n",
              "      <td>No</td>\n",
              "      <td>No</td>\n",
              "      <td>No</td>\n",
              "      <td>Don't know</td>\n",
              "      <td>No</td>\n",
              "    </tr>\n",
              "    <tr>\n",
              "      <th>2</th>\n",
              "      <td>2014-08-27 11:29:44</td>\n",
              "      <td>32.0</td>\n",
              "      <td>Male</td>\n",
              "      <td>Canada</td>\n",
              "      <td>No</td>\n",
              "      <td>No</td>\n",
              "      <td>No</td>\n",
              "      <td>Rarely</td>\n",
              "      <td>6-25</td>\n",
              "      <td>No</td>\n",
              "      <td>...</td>\n",
              "      <td>Don't know</td>\n",
              "      <td>Somewhat difficult</td>\n",
              "      <td>No</td>\n",
              "      <td>No</td>\n",
              "      <td>Yes</td>\n",
              "      <td>Yes</td>\n",
              "      <td>Yes</td>\n",
              "      <td>Yes</td>\n",
              "      <td>No</td>\n",
              "      <td>No</td>\n",
              "    </tr>\n",
              "    <tr>\n",
              "      <th>3</th>\n",
              "      <td>2014-08-27 11:29:46</td>\n",
              "      <td>31.0</td>\n",
              "      <td>Male</td>\n",
              "      <td>United Kingdom</td>\n",
              "      <td>No</td>\n",
              "      <td>Yes</td>\n",
              "      <td>Yes</td>\n",
              "      <td>Often</td>\n",
              "      <td>26-100</td>\n",
              "      <td>No</td>\n",
              "      <td>...</td>\n",
              "      <td>No</td>\n",
              "      <td>Somewhat difficult</td>\n",
              "      <td>Yes</td>\n",
              "      <td>Yes</td>\n",
              "      <td>Some of them</td>\n",
              "      <td>No</td>\n",
              "      <td>Maybe</td>\n",
              "      <td>Maybe</td>\n",
              "      <td>No</td>\n",
              "      <td>Yes</td>\n",
              "    </tr>\n",
              "    <tr>\n",
              "      <th>4</th>\n",
              "      <td>2014-08-27 11:30:22</td>\n",
              "      <td>31.0</td>\n",
              "      <td>Male</td>\n",
              "      <td>United States</td>\n",
              "      <td>No</td>\n",
              "      <td>No</td>\n",
              "      <td>No</td>\n",
              "      <td>Never</td>\n",
              "      <td>100-500</td>\n",
              "      <td>Yes</td>\n",
              "      <td>...</td>\n",
              "      <td>Don't know</td>\n",
              "      <td>Don't know</td>\n",
              "      <td>No</td>\n",
              "      <td>No</td>\n",
              "      <td>Some of them</td>\n",
              "      <td>Yes</td>\n",
              "      <td>Yes</td>\n",
              "      <td>Yes</td>\n",
              "      <td>Don't know</td>\n",
              "      <td>No</td>\n",
              "    </tr>\n",
              "  </tbody>\n",
              "</table>\n",
              "<p>5 rows × 25 columns</p>\n",
              "</div>\n",
              "      <button class=\"colab-df-convert\" onclick=\"convertToInteractive('df-ee5a4a98-e5d5-4ba4-aa8c-2b1d1b096412')\"\n",
              "              title=\"Convert this dataframe to an interactive table.\"\n",
              "              style=\"display:none;\">\n",
              "        \n",
              "  <svg xmlns=\"http://www.w3.org/2000/svg\" height=\"24px\"viewBox=\"0 0 24 24\"\n",
              "       width=\"24px\">\n",
              "    <path d=\"M0 0h24v24H0V0z\" fill=\"none\"/>\n",
              "    <path d=\"M18.56 5.44l.94 2.06.94-2.06 2.06-.94-2.06-.94-.94-2.06-.94 2.06-2.06.94zm-11 1L8.5 8.5l.94-2.06 2.06-.94-2.06-.94L8.5 2.5l-.94 2.06-2.06.94zm10 10l.94 2.06.94-2.06 2.06-.94-2.06-.94-.94-2.06-.94 2.06-2.06.94z\"/><path d=\"M17.41 7.96l-1.37-1.37c-.4-.4-.92-.59-1.43-.59-.52 0-1.04.2-1.43.59L10.3 9.45l-7.72 7.72c-.78.78-.78 2.05 0 2.83L4 21.41c.39.39.9.59 1.41.59.51 0 1.02-.2 1.41-.59l7.78-7.78 2.81-2.81c.8-.78.8-2.07 0-2.86zM5.41 20L4 18.59l7.72-7.72 1.47 1.35L5.41 20z\"/>\n",
              "  </svg>\n",
              "      </button>\n",
              "      \n",
              "  <style>\n",
              "    .colab-df-container {\n",
              "      display:flex;\n",
              "      flex-wrap:wrap;\n",
              "      gap: 12px;\n",
              "    }\n",
              "\n",
              "    .colab-df-convert {\n",
              "      background-color: #E8F0FE;\n",
              "      border: none;\n",
              "      border-radius: 50%;\n",
              "      cursor: pointer;\n",
              "      display: none;\n",
              "      fill: #1967D2;\n",
              "      height: 32px;\n",
              "      padding: 0 0 0 0;\n",
              "      width: 32px;\n",
              "    }\n",
              "\n",
              "    .colab-df-convert:hover {\n",
              "      background-color: #E2EBFA;\n",
              "      box-shadow: 0px 1px 2px rgba(60, 64, 67, 0.3), 0px 1px 3px 1px rgba(60, 64, 67, 0.15);\n",
              "      fill: #174EA6;\n",
              "    }\n",
              "\n",
              "    [theme=dark] .colab-df-convert {\n",
              "      background-color: #3B4455;\n",
              "      fill: #D2E3FC;\n",
              "    }\n",
              "\n",
              "    [theme=dark] .colab-df-convert:hover {\n",
              "      background-color: #434B5C;\n",
              "      box-shadow: 0px 1px 3px 1px rgba(0, 0, 0, 0.15);\n",
              "      filter: drop-shadow(0px 1px 2px rgba(0, 0, 0, 0.3));\n",
              "      fill: #FFFFFF;\n",
              "    }\n",
              "  </style>\n",
              "\n",
              "      <script>\n",
              "        const buttonEl =\n",
              "          document.querySelector('#df-ee5a4a98-e5d5-4ba4-aa8c-2b1d1b096412 button.colab-df-convert');\n",
              "        buttonEl.style.display =\n",
              "          google.colab.kernel.accessAllowed ? 'block' : 'none';\n",
              "\n",
              "        async function convertToInteractive(key) {\n",
              "          const element = document.querySelector('#df-ee5a4a98-e5d5-4ba4-aa8c-2b1d1b096412');\n",
              "          const dataTable =\n",
              "            await google.colab.kernel.invokeFunction('convertToInteractive',\n",
              "                                                     [key], {});\n",
              "          if (!dataTable) return;\n",
              "\n",
              "          const docLinkHtml = 'Like what you see? Visit the ' +\n",
              "            '<a target=\"_blank\" href=https://colab.research.google.com/notebooks/data_table.ipynb>data table notebook</a>'\n",
              "            + ' to learn more about interactive tables.';\n",
              "          element.innerHTML = '';\n",
              "          dataTable['output_type'] = 'display_data';\n",
              "          await google.colab.output.renderOutput(dataTable, element);\n",
              "          const docLink = document.createElement('div');\n",
              "          docLink.innerHTML = docLinkHtml;\n",
              "          element.appendChild(docLink);\n",
              "        }\n",
              "      </script>\n",
              "    </div>\n",
              "  </div>\n",
              "  "
            ]
          },
          "metadata": {},
          "execution_count": 156
        }
      ]
    },
    {
      "cell_type": "code",
      "source": [
        "df['Age'].unique()"
      ],
      "metadata": {
        "id": "NOUF3VRuYkN1",
        "colab": {
          "base_uri": "https://localhost:8080/"
        },
        "outputId": "d944218e-8576-4d68-94cb-6a392d68f721"
      },
      "execution_count": 157,
      "outputs": [
        {
          "output_type": "execute_result",
          "data": {
            "text/plain": [
              "array([37., 44., 32., 31., 33., 35., 39., 42., 23., 29., 36., 27., 46.,\n",
              "       41., 34., 30., 40., 38., 50., 24., 18., 28., 26., 22., 19., 25.,\n",
              "       45., 21., 43., 56., 60., 54., 55., 48., 20., 57., 58., 47., 62.,\n",
              "       51., 65., 49., 53., 61.])"
            ]
          },
          "metadata": {},
          "execution_count": 157
        }
      ]
    },
    {
      "cell_type": "code",
      "source": [
        "df['Age'] = df['Age'].astype(int)"
      ],
      "metadata": {
        "id": "CoN7LqpS9ipJ"
      },
      "execution_count": 158,
      "outputs": []
    },
    {
      "cell_type": "code",
      "source": [
        "df.info()"
      ],
      "metadata": {
        "colab": {
          "base_uri": "https://localhost:8080/"
        },
        "id": "7oStRrBq-MUy",
        "outputId": "6a436a92-a8ed-46c6-f9dd-2b39a8c323d7"
      },
      "execution_count": 159,
      "outputs": [
        {
          "output_type": "stream",
          "name": "stdout",
          "text": [
            "<class 'pandas.core.frame.DataFrame'>\n",
            "RangeIndex: 1259 entries, 0 to 1258\n",
            "Data columns (total 25 columns):\n",
            " #   Column                     Non-Null Count  Dtype \n",
            "---  ------                     --------------  ----- \n",
            " 0   Timestamp                  1259 non-null   object\n",
            " 1   Age                        1259 non-null   int64 \n",
            " 2   Gender                     1259 non-null   object\n",
            " 3   Country                    1259 non-null   object\n",
            " 4   self_employed              1259 non-null   object\n",
            " 5   family_history             1259 non-null   object\n",
            " 6   treatment                  1259 non-null   object\n",
            " 7   work_interfere             1259 non-null   object\n",
            " 8   no_employees               1259 non-null   object\n",
            " 9   remote_work                1259 non-null   object\n",
            " 10  tech_company               1259 non-null   object\n",
            " 11  benefits                   1259 non-null   object\n",
            " 12  care_options               1259 non-null   object\n",
            " 13  wellness_program           1259 non-null   object\n",
            " 14  seek_help                  1259 non-null   object\n",
            " 15  anonymity                  1259 non-null   object\n",
            " 16  leave                      1259 non-null   object\n",
            " 17  mental_health_consequence  1259 non-null   object\n",
            " 18  phys_health_consequence    1259 non-null   object\n",
            " 19  coworkers                  1259 non-null   object\n",
            " 20  supervisor                 1259 non-null   object\n",
            " 21  mental_health_interview    1259 non-null   object\n",
            " 22  phys_health_interview      1259 non-null   object\n",
            " 23  mental_vs_physical         1259 non-null   object\n",
            " 24  obs_consequence            1259 non-null   object\n",
            "dtypes: int64(1), object(24)\n",
            "memory usage: 246.0+ KB\n"
          ]
        }
      ]
    },
    {
      "cell_type": "code",
      "source": [
        "df.Country.unique()\n",
        "\n",
        "print(df.Country.value_counts())"
      ],
      "metadata": {
        "id": "3AEYFPDu8bAN",
        "colab": {
          "base_uri": "https://localhost:8080/"
        },
        "outputId": "e16f7f69-d473-4bed-a9e6-36bfc838768c"
      },
      "execution_count": 160,
      "outputs": [
        {
          "output_type": "stream",
          "name": "stdout",
          "text": [
            "United States             751\n",
            "United Kingdom            185\n",
            "Canada                     72\n",
            "Germany                    45\n",
            "Ireland                    27\n",
            "Netherlands                27\n",
            "Australia                  21\n",
            "France                     13\n",
            "India                      10\n",
            "New Zealand                 8\n",
            "Poland                      7\n",
            "Switzerland                 7\n",
            "Sweden                      7\n",
            "Italy                       7\n",
            "South Africa                6\n",
            "Belgium                     6\n",
            "Brazil                      6\n",
            "Israel                      5\n",
            "Singapore                   4\n",
            "Bulgaria                    4\n",
            "Austria                     3\n",
            "Finland                     3\n",
            "Mexico                      3\n",
            "Russia                      3\n",
            "Denmark                     2\n",
            "Greece                      2\n",
            "Colombia                    2\n",
            "Croatia                     2\n",
            "Portugal                    2\n",
            "Moldova                     1\n",
            "Georgia                     1\n",
            "Bahamas, The                1\n",
            "China                       1\n",
            "Thailand                    1\n",
            "Czech Republic              1\n",
            "Norway                      1\n",
            "Romania                     1\n",
            "Nigeria                     1\n",
            "Japan                       1\n",
            "Hungary                     1\n",
            "Bosnia and Herzegovina      1\n",
            "Uruguay                     1\n",
            "Spain                       1\n",
            "Zimbabwe                    1\n",
            "Latvia                      1\n",
            "Costa Rica                  1\n",
            "Slovenia                    1\n",
            "Philippines                 1\n",
            "Name: Country, dtype: int64\n"
          ]
        }
      ]
    },
    {
      "cell_type": "code",
      "source": [
        "df = df.drop(columns = ['Timestamp', 'Country'])\n",
        "df.head()"
      ],
      "metadata": {
        "id": "6sAq9uPG9N3i",
        "colab": {
          "base_uri": "https://localhost:8080/",
          "height": 386
        },
        "outputId": "be78cb09-037c-4bd7-dc84-5787002cb6a4"
      },
      "execution_count": 161,
      "outputs": [
        {
          "output_type": "execute_result",
          "data": {
            "text/plain": [
              "   Age  Gender self_employed family_history treatment work_interfere  \\\n",
              "0   37  Female            No             No       Yes          Often   \n",
              "1   44    Male            No             No        No         Rarely   \n",
              "2   32    Male            No             No        No         Rarely   \n",
              "3   31    Male            No            Yes       Yes          Often   \n",
              "4   31    Male            No             No        No          Never   \n",
              "\n",
              "     no_employees remote_work tech_company    benefits  ...   anonymity  \\\n",
              "0            6-25          No          Yes         Yes  ...         Yes   \n",
              "1  More than 1000          No           No  Don't know  ...  Don't know   \n",
              "2            6-25          No          Yes          No  ...  Don't know   \n",
              "3          26-100          No          Yes          No  ...          No   \n",
              "4         100-500         Yes          Yes         Yes  ...  Don't know   \n",
              "\n",
              "                leave mental_health_consequence phys_health_consequence  \\\n",
              "0       Somewhat easy                        No                      No   \n",
              "1          Don't know                     Maybe                      No   \n",
              "2  Somewhat difficult                        No                      No   \n",
              "3  Somewhat difficult                       Yes                     Yes   \n",
              "4          Don't know                        No                      No   \n",
              "\n",
              "      coworkers supervisor mental_health_interview phys_health_interview  \\\n",
              "0  Some of them        Yes                      No                 Maybe   \n",
              "1            No         No                      No                    No   \n",
              "2           Yes        Yes                     Yes                   Yes   \n",
              "3  Some of them         No                   Maybe                 Maybe   \n",
              "4  Some of them        Yes                     Yes                   Yes   \n",
              "\n",
              "  mental_vs_physical obs_consequence  \n",
              "0                Yes              No  \n",
              "1         Don't know              No  \n",
              "2                 No              No  \n",
              "3                 No             Yes  \n",
              "4         Don't know              No  \n",
              "\n",
              "[5 rows x 23 columns]"
            ],
            "text/html": [
              "\n",
              "  <div id=\"df-0b298b43-5779-4790-a778-a66448e7a79e\">\n",
              "    <div class=\"colab-df-container\">\n",
              "      <div>\n",
              "<style scoped>\n",
              "    .dataframe tbody tr th:only-of-type {\n",
              "        vertical-align: middle;\n",
              "    }\n",
              "\n",
              "    .dataframe tbody tr th {\n",
              "        vertical-align: top;\n",
              "    }\n",
              "\n",
              "    .dataframe thead th {\n",
              "        text-align: right;\n",
              "    }\n",
              "</style>\n",
              "<table border=\"1\" class=\"dataframe\">\n",
              "  <thead>\n",
              "    <tr style=\"text-align: right;\">\n",
              "      <th></th>\n",
              "      <th>Age</th>\n",
              "      <th>Gender</th>\n",
              "      <th>self_employed</th>\n",
              "      <th>family_history</th>\n",
              "      <th>treatment</th>\n",
              "      <th>work_interfere</th>\n",
              "      <th>no_employees</th>\n",
              "      <th>remote_work</th>\n",
              "      <th>tech_company</th>\n",
              "      <th>benefits</th>\n",
              "      <th>...</th>\n",
              "      <th>anonymity</th>\n",
              "      <th>leave</th>\n",
              "      <th>mental_health_consequence</th>\n",
              "      <th>phys_health_consequence</th>\n",
              "      <th>coworkers</th>\n",
              "      <th>supervisor</th>\n",
              "      <th>mental_health_interview</th>\n",
              "      <th>phys_health_interview</th>\n",
              "      <th>mental_vs_physical</th>\n",
              "      <th>obs_consequence</th>\n",
              "    </tr>\n",
              "  </thead>\n",
              "  <tbody>\n",
              "    <tr>\n",
              "      <th>0</th>\n",
              "      <td>37</td>\n",
              "      <td>Female</td>\n",
              "      <td>No</td>\n",
              "      <td>No</td>\n",
              "      <td>Yes</td>\n",
              "      <td>Often</td>\n",
              "      <td>6-25</td>\n",
              "      <td>No</td>\n",
              "      <td>Yes</td>\n",
              "      <td>Yes</td>\n",
              "      <td>...</td>\n",
              "      <td>Yes</td>\n",
              "      <td>Somewhat easy</td>\n",
              "      <td>No</td>\n",
              "      <td>No</td>\n",
              "      <td>Some of them</td>\n",
              "      <td>Yes</td>\n",
              "      <td>No</td>\n",
              "      <td>Maybe</td>\n",
              "      <td>Yes</td>\n",
              "      <td>No</td>\n",
              "    </tr>\n",
              "    <tr>\n",
              "      <th>1</th>\n",
              "      <td>44</td>\n",
              "      <td>Male</td>\n",
              "      <td>No</td>\n",
              "      <td>No</td>\n",
              "      <td>No</td>\n",
              "      <td>Rarely</td>\n",
              "      <td>More than 1000</td>\n",
              "      <td>No</td>\n",
              "      <td>No</td>\n",
              "      <td>Don't know</td>\n",
              "      <td>...</td>\n",
              "      <td>Don't know</td>\n",
              "      <td>Don't know</td>\n",
              "      <td>Maybe</td>\n",
              "      <td>No</td>\n",
              "      <td>No</td>\n",
              "      <td>No</td>\n",
              "      <td>No</td>\n",
              "      <td>No</td>\n",
              "      <td>Don't know</td>\n",
              "      <td>No</td>\n",
              "    </tr>\n",
              "    <tr>\n",
              "      <th>2</th>\n",
              "      <td>32</td>\n",
              "      <td>Male</td>\n",
              "      <td>No</td>\n",
              "      <td>No</td>\n",
              "      <td>No</td>\n",
              "      <td>Rarely</td>\n",
              "      <td>6-25</td>\n",
              "      <td>No</td>\n",
              "      <td>Yes</td>\n",
              "      <td>No</td>\n",
              "      <td>...</td>\n",
              "      <td>Don't know</td>\n",
              "      <td>Somewhat difficult</td>\n",
              "      <td>No</td>\n",
              "      <td>No</td>\n",
              "      <td>Yes</td>\n",
              "      <td>Yes</td>\n",
              "      <td>Yes</td>\n",
              "      <td>Yes</td>\n",
              "      <td>No</td>\n",
              "      <td>No</td>\n",
              "    </tr>\n",
              "    <tr>\n",
              "      <th>3</th>\n",
              "      <td>31</td>\n",
              "      <td>Male</td>\n",
              "      <td>No</td>\n",
              "      <td>Yes</td>\n",
              "      <td>Yes</td>\n",
              "      <td>Often</td>\n",
              "      <td>26-100</td>\n",
              "      <td>No</td>\n",
              "      <td>Yes</td>\n",
              "      <td>No</td>\n",
              "      <td>...</td>\n",
              "      <td>No</td>\n",
              "      <td>Somewhat difficult</td>\n",
              "      <td>Yes</td>\n",
              "      <td>Yes</td>\n",
              "      <td>Some of them</td>\n",
              "      <td>No</td>\n",
              "      <td>Maybe</td>\n",
              "      <td>Maybe</td>\n",
              "      <td>No</td>\n",
              "      <td>Yes</td>\n",
              "    </tr>\n",
              "    <tr>\n",
              "      <th>4</th>\n",
              "      <td>31</td>\n",
              "      <td>Male</td>\n",
              "      <td>No</td>\n",
              "      <td>No</td>\n",
              "      <td>No</td>\n",
              "      <td>Never</td>\n",
              "      <td>100-500</td>\n",
              "      <td>Yes</td>\n",
              "      <td>Yes</td>\n",
              "      <td>Yes</td>\n",
              "      <td>...</td>\n",
              "      <td>Don't know</td>\n",
              "      <td>Don't know</td>\n",
              "      <td>No</td>\n",
              "      <td>No</td>\n",
              "      <td>Some of them</td>\n",
              "      <td>Yes</td>\n",
              "      <td>Yes</td>\n",
              "      <td>Yes</td>\n",
              "      <td>Don't know</td>\n",
              "      <td>No</td>\n",
              "    </tr>\n",
              "  </tbody>\n",
              "</table>\n",
              "<p>5 rows × 23 columns</p>\n",
              "</div>\n",
              "      <button class=\"colab-df-convert\" onclick=\"convertToInteractive('df-0b298b43-5779-4790-a778-a66448e7a79e')\"\n",
              "              title=\"Convert this dataframe to an interactive table.\"\n",
              "              style=\"display:none;\">\n",
              "        \n",
              "  <svg xmlns=\"http://www.w3.org/2000/svg\" height=\"24px\"viewBox=\"0 0 24 24\"\n",
              "       width=\"24px\">\n",
              "    <path d=\"M0 0h24v24H0V0z\" fill=\"none\"/>\n",
              "    <path d=\"M18.56 5.44l.94 2.06.94-2.06 2.06-.94-2.06-.94-.94-2.06-.94 2.06-2.06.94zm-11 1L8.5 8.5l.94-2.06 2.06-.94-2.06-.94L8.5 2.5l-.94 2.06-2.06.94zm10 10l.94 2.06.94-2.06 2.06-.94-2.06-.94-.94-2.06-.94 2.06-2.06.94z\"/><path d=\"M17.41 7.96l-1.37-1.37c-.4-.4-.92-.59-1.43-.59-.52 0-1.04.2-1.43.59L10.3 9.45l-7.72 7.72c-.78.78-.78 2.05 0 2.83L4 21.41c.39.39.9.59 1.41.59.51 0 1.02-.2 1.41-.59l7.78-7.78 2.81-2.81c.8-.78.8-2.07 0-2.86zM5.41 20L4 18.59l7.72-7.72 1.47 1.35L5.41 20z\"/>\n",
              "  </svg>\n",
              "      </button>\n",
              "      \n",
              "  <style>\n",
              "    .colab-df-container {\n",
              "      display:flex;\n",
              "      flex-wrap:wrap;\n",
              "      gap: 12px;\n",
              "    }\n",
              "\n",
              "    .colab-df-convert {\n",
              "      background-color: #E8F0FE;\n",
              "      border: none;\n",
              "      border-radius: 50%;\n",
              "      cursor: pointer;\n",
              "      display: none;\n",
              "      fill: #1967D2;\n",
              "      height: 32px;\n",
              "      padding: 0 0 0 0;\n",
              "      width: 32px;\n",
              "    }\n",
              "\n",
              "    .colab-df-convert:hover {\n",
              "      background-color: #E2EBFA;\n",
              "      box-shadow: 0px 1px 2px rgba(60, 64, 67, 0.3), 0px 1px 3px 1px rgba(60, 64, 67, 0.15);\n",
              "      fill: #174EA6;\n",
              "    }\n",
              "\n",
              "    [theme=dark] .colab-df-convert {\n",
              "      background-color: #3B4455;\n",
              "      fill: #D2E3FC;\n",
              "    }\n",
              "\n",
              "    [theme=dark] .colab-df-convert:hover {\n",
              "      background-color: #434B5C;\n",
              "      box-shadow: 0px 1px 3px 1px rgba(0, 0, 0, 0.15);\n",
              "      filter: drop-shadow(0px 1px 2px rgba(0, 0, 0, 0.3));\n",
              "      fill: #FFFFFF;\n",
              "    }\n",
              "  </style>\n",
              "\n",
              "      <script>\n",
              "        const buttonEl =\n",
              "          document.querySelector('#df-0b298b43-5779-4790-a778-a66448e7a79e button.colab-df-convert');\n",
              "        buttonEl.style.display =\n",
              "          google.colab.kernel.accessAllowed ? 'block' : 'none';\n",
              "\n",
              "        async function convertToInteractive(key) {\n",
              "          const element = document.querySelector('#df-0b298b43-5779-4790-a778-a66448e7a79e');\n",
              "          const dataTable =\n",
              "            await google.colab.kernel.invokeFunction('convertToInteractive',\n",
              "                                                     [key], {});\n",
              "          if (!dataTable) return;\n",
              "\n",
              "          const docLinkHtml = 'Like what you see? Visit the ' +\n",
              "            '<a target=\"_blank\" href=https://colab.research.google.com/notebooks/data_table.ipynb>data table notebook</a>'\n",
              "            + ' to learn more about interactive tables.';\n",
              "          element.innerHTML = '';\n",
              "          dataTable['output_type'] = 'display_data';\n",
              "          await google.colab.output.renderOutput(dataTable, element);\n",
              "          const docLink = document.createElement('div');\n",
              "          docLink.innerHTML = docLinkHtml;\n",
              "          element.appendChild(docLink);\n",
              "        }\n",
              "      </script>\n",
              "    </div>\n",
              "  </div>\n",
              "  "
            ]
          },
          "metadata": {},
          "execution_count": 161
        }
      ]
    },
    {
      "cell_type": "markdown",
      "source": [
        "# Exploratory Data Analysis"
      ],
      "metadata": {
        "id": "B55Pbx3NLCEo"
      }
    },
    {
      "cell_type": "code",
      "source": [
        "import matplotlib.pyplot as plt\n",
        "import seaborn as sns"
      ],
      "metadata": {
        "id": "Ykv7DGuRKHwp"
      },
      "execution_count": 162,
      "outputs": []
    },
    {
      "cell_type": "markdown",
      "source": [
        "#### Categorical Features"
      ],
      "metadata": {
        "id": "-tnBnI63M7X8"
      }
    },
    {
      "cell_type": "code",
      "source": [
        "categorical_features = ['Gender', 'self_employed', 'family_history', 'work_interfere', 'no_employees', 'remote_work', 'tech_company', 'benefits', 'care_options', 'wellness_program', 'seek_help', 'anonymity', 'leave', 'mental_health_consequence', 'phys_health_consequence', 'coworkers', 'supervisor', 'phys_health_interview','mental_health_interview', 'mental_vs_physical','obs_consequence']"
      ],
      "metadata": {
        "id": "bQDGrKchM6DS"
      },
      "execution_count": 163,
      "outputs": []
    },
    {
      "cell_type": "code",
      "source": [
        "# Gender column\n",
        "\n",
        "feature = categorical_features[0]\n",
        "count = df[feature].value_counts()\n",
        "percent = 100*df[feature].value_counts(normalize=True)\n",
        "gender = pd.DataFrame({'Number of samples':count, 'Percentage':percent.round(1)})\n",
        "print(gender)\n",
        "count.plot(kind='pie', title=feature);"
      ],
      "metadata": {
        "id": "m_qVdZE3PT6h",
        "colab": {
          "base_uri": "https://localhost:8080/",
          "height": 319
        },
        "outputId": "7b8821a9-702c-4035-9c55-4c53e1c5aa5c"
      },
      "execution_count": 164,
      "outputs": [
        {
          "output_type": "stream",
          "name": "stdout",
          "text": [
            "        Number of samples  Percentage\n",
            "Male                 1006        79.9\n",
            "Female                253        20.1\n"
          ]
        },
        {
          "output_type": "display_data",
          "data": {
            "text/plain": [
              "<Figure size 432x288 with 1 Axes>"
            ],
            "image/png": "[encoded data removed]"
          },
          "metadata": {}
        }
      ]
    },
    {
      "cell_type": "code",
      "source": [
        "# self_employed column\n",
        "\n",
        "feature = categorical_features[1]\n",
        "count = df[feature].value_counts()\n",
        "percent = 100*df[feature].value_counts(normalize=True)\n",
        "self_employed = pd.DataFrame({'Number of samples':count, 'Percentage':percent.round(1)})\n",
        "print(self_employed)\n",
        "count.plot(kind='pie', title=feature);"
      ],
      "metadata": {
        "id": "4STvIgHWSVxF",
        "colab": {
          "base_uri": "https://localhost:8080/",
          "height": 319
        },
        "outputId": "120dbe26-878b-4c4e-8c0d-6ddf32cbfce6"
      },
      "execution_count": 165,
      "outputs": [
        {
          "output_type": "stream",
          "name": "stdout",
          "text": [
            "     Number of samples  Percentage\n",
            "No                1113        88.4\n",
            "Yes                146        11.6\n"
          ]
        },
        {
          "output_type": "display_data",
          "data": {
            "text/plain": [
              "<Figure size 432x288 with 1 Axes>"
            ],
            "image/png": "[encoded data removed]"
          },
          "metadata": {}
        }
      ]
    },
    {
      "cell_type": "code",
      "source": [
        "# family_history column\n",
        "\n",
        "feature = categorical_features[2]\n",
        "count = df[feature].value_counts()\n",
        "percent = 100*df[feature].value_counts(normalize=True)\n",
        "family_history = pd.DataFrame({'Number of samples':count, 'Percentage':percent.round(1)})\n",
        "print(family_history)\n",
        "count.plot(kind='pie', title=feature);"
      ],
      "metadata": {
        "id": "j9zQ9xl4LUae",
        "colab": {
          "base_uri": "https://localhost:8080/",
          "height": 319
        },
        "outputId": "88bfe953-62e8-40af-d8f5-90f5071079f6"
      },
      "execution_count": 166,
      "outputs": [
        {
          "output_type": "stream",
          "name": "stdout",
          "text": [
            "     Number of samples  Percentage\n",
            "No                 767        60.9\n",
            "Yes                492        39.1\n"
          ]
        },
        {
          "output_type": "display_data",
          "data": {
            "text/plain": [
              "<Figure size 432x288 with 1 Axes>"
            ],
            "image/png": "[encoded data removed]"
          },
          "metadata": {}
        }
      ]
    },
    {
      "cell_type": "code",
      "source": [
        "# work_interfere column\n",
        "\n",
        "feature = categorical_features[3]\n",
        "count = df[feature].value_counts()\n",
        "percent = 100*df[feature].value_counts(normalize=True)\n",
        "work_interfere = pd.DataFrame({'Number of samples':count, 'Percentage':percent.round(1)})\n",
        "print(work_interfere)\n",
        "count.plot(kind='bar', title=feature);"
      ],
      "metadata": {
        "id": "6nKwDWBrfXYW",
        "colab": {
          "base_uri": "https://localhost:8080/",
          "height": 418
        },
        "outputId": "e7f9929d-d963-494e-b4c6-f7234334220e"
      },
      "execution_count": 167,
      "outputs": [
        {
          "output_type": "stream",
          "name": "stdout",
          "text": [
            "           Number of samples  Percentage\n",
            "Sometimes                729        57.9\n",
            "Never                    213        16.9\n",
            "Rarely                   173        13.7\n",
            "Often                    144        11.4\n"
          ]
        },
        {
          "output_type": "display_data",
          "data": {
            "text/plain": [
              "<Figure size 432x288 with 1 Axes>"
            ],
            "image/png": "[encoded data removed]"
          },
          "metadata": {
            "needs_background": "light"
          }
        }
      ]
    },
    {
      "cell_type": "code",
      "source": [
        "# no_employees column\n",
        "\n",
        "feature = categorical_features[4]\n",
        "count = df[feature].value_counts()\n",
        "percent = 100*df[feature].value_counts(normalize=True)\n",
        "no_employees = pd.DataFrame({'Number of samples':count, 'Percentage':percent.round(1)})\n",
        "print(no_employees)\n",
        "count.plot(kind='bar', title=feature);"
      ],
      "metadata": {
        "id": "PAZK2TVVfeQm",
        "colab": {
          "base_uri": "https://localhost:8080/",
          "height": 478
        },
        "outputId": "f0b60f72-a9c5-40a4-f5b4-b0524259b788"
      },
      "execution_count": 168,
      "outputs": [
        {
          "output_type": "stream",
          "name": "stdout",
          "text": [
            "                Number of samples  Percentage\n",
            "6-25                          290        23.0\n",
            "26-100                        289        23.0\n",
            "More than 1000                282        22.4\n",
            "100-500                       176        14.0\n",
            "1-5                           162        12.9\n",
            "500-1000                       60         4.8\n"
          ]
        },
        {
          "output_type": "display_data",
          "data": {
            "text/plain": [
              "<Figure size 432x288 with 1 Axes>"
            ],
            "image/png": "[encoded data removed]"
          },
          "metadata": {
            "needs_background": "light"
          }
        }
      ]
    },
    {
      "cell_type": "code",
      "source": [
        "# remote_work column\n",
        "\n",
        "feature = categorical_features[5]\n",
        "count = df[feature].value_counts()\n",
        "percent = 100*df[feature].value_counts(normalize=True)\n",
        "remote_work = pd.DataFrame({'Number of samples':count, 'Percentage':percent.round(1)})\n",
        "print(remote_work)\n",
        "count.plot(kind='pie', title=feature);"
      ],
      "metadata": {
        "id": "0lJjUeCGfe6T",
        "colab": {
          "base_uri": "https://localhost:8080/",
          "height": 319
        },
        "outputId": "c1c28d1f-1f3d-4262-94f4-8888dfe8654a"
      },
      "execution_count": 169,
      "outputs": [
        {
          "output_type": "stream",
          "name": "stdout",
          "text": [
            "     Number of samples  Percentage\n",
            "No                 883        70.1\n",
            "Yes                376        29.9\n"
          ]
        },
        {
          "output_type": "display_data",
          "data": {
            "text/plain": [
              "<Figure size 432x288 with 1 Axes>"
            ],
            "image/png": "[encoded data removed]"
          },
          "metadata": {}
        }
      ]
    },
    {
      "cell_type": "code",
      "source": [
        "sns.countplot(x='treatment', hue='Gender', data=df, palette='Set2')\n",
        "plt.show()\n",
        "df.treatment.value_counts()"
      ],
      "metadata": {
        "id": "XTlVWecRgew9",
        "colab": {
          "base_uri": "https://localhost:8080/",
          "height": 334
        },
        "outputId": "82422e18-6387-4ec2-e429-726a6490f335"
      },
      "execution_count": 170,
      "outputs": [
        {
          "output_type": "display_data",
          "data": {
            "text/plain": [
              "<Figure size 432x288 with 1 Axes>"
            ],
            "image/png": "[encoded data removed]"
          },
          "metadata": {
            "needs_background": "light"
          }
        },
        {
          "output_type": "execute_result",
          "data": {
            "text/plain": [
              "Yes    637\n",
              "No     622\n",
              "Name: treatment, dtype: int64"
            ]
          },
          "metadata": {},
          "execution_count": 170
        }
      ]
    },
    {
      "cell_type": "code",
      "source": [
        "plt.figure(figsize=(12,5))\n",
        "sns.violinplot(x = 'treatment', y='Age', hue='Gender', data = df, palette = 'mako')\n",
        "plt.show()"
      ],
      "metadata": {
        "id": "5545MW08iJ3-",
        "colab": {
          "base_uri": "https://localhost:8080/",
          "height": 334
        },
        "outputId": "ea7aff83-7745-404d-a3b4-dd9d4eda5413"
      },
      "execution_count": 171,
      "outputs": [
        {
          "output_type": "display_data",
          "data": {
            "text/plain": [
              "<Figure size 864x360 with 1 Axes>"
            ],
            "image/png": "[encoded data removed]"
          },
          "metadata": {
            "needs_background": "light"
          }
        }
      ]
    },
    {
      "cell_type": "code",
      "source": [
        "df.groupby('Gender').mean()"
      ],
      "metadata": {
        "id": "zxrPLVhuAalH",
        "colab": {
          "base_uri": "https://localhost:8080/",
          "height": 143
        },
        "outputId": "e2800939-e53d-4ba5-d07f-666d894ce5e7"
      },
      "execution_count": 172,
      "outputs": [
        {
          "output_type": "execute_result",
          "data": {
            "text/plain": [
              "              Age\n",
              "Gender           \n",
              "Female  30.727273\n",
              "Male    32.375746"
            ],
            "text/html": [
              "\n",
              "  <div id=\"df-24e285c7-1f7b-435e-8feb-dea6d307c37d\">\n",
              "    <div class=\"colab-df-container\">\n",
              "      <div>\n",
              "<style scoped>\n",
              "    .dataframe tbody tr th:only-of-type {\n",
              "        vertical-align: middle;\n",
              "    }\n",
              "\n",
              "    .dataframe tbody tr th {\n",
              "        vertical-align: top;\n",
              "    }\n",
              "\n",
              "    .dataframe thead th {\n",
              "        text-align: right;\n",
              "    }\n",
              "</style>\n",
              "<table border=\"1\" class=\"dataframe\">\n",
              "  <thead>\n",
              "    <tr style=\"text-align: right;\">\n",
              "      <th></th>\n",
              "      <th>Age</th>\n",
              "    </tr>\n",
              "    <tr>\n",
              "      <th>Gender</th>\n",
              "      <th></th>\n",
              "    </tr>\n",
              "  </thead>\n",
              "  <tbody>\n",
              "    <tr>\n",
              "      <th>Female</th>\n",
              "      <td>30.727273</td>\n",
              "    </tr>\n",
              "    <tr>\n",
              "      <th>Male</th>\n",
              "      <td>32.375746</td>\n",
              "    </tr>\n",
              "  </tbody>\n",
              "</table>\n",
              "</div>\n",
              "      <button class=\"colab-df-convert\" onclick=\"convertToInteractive('df-24e285c7-1f7b-435e-8feb-dea6d307c37d')\"\n",
              "              title=\"Convert this dataframe to an interactive table.\"\n",
              "              style=\"display:none;\">\n",
              "        \n",
              "  <svg xmlns=\"http://www.w3.org/2000/svg\" height=\"24px\"viewBox=\"0 0 24 24\"\n",
              "       width=\"24px\">\n",
              "    <path d=\"M0 0h24v24H0V0z\" fill=\"none\"/>\n",
              "    <path d=\"M18.56 5.44l.94 2.06.94-2.06 2.06-.94-2.06-.94-.94-2.06-.94 2.06-2.06.94zm-11 1L8.5 8.5l.94-2.06 2.06-.94-2.06-.94L8.5 2.5l-.94 2.06-2.06.94zm10 10l.94 2.06.94-2.06 2.06-.94-2.06-.94-.94-2.06-.94 2.06-2.06.94z\"/><path d=\"M17.41 7.96l-1.37-1.37c-.4-.4-.92-.59-1.43-.59-.52 0-1.04.2-1.43.59L10.3 9.45l-7.72 7.72c-.78.78-.78 2.05 0 2.83L4 21.41c.39.39.9.59 1.41.59.51 0 1.02-.2 1.41-.59l7.78-7.78 2.81-2.81c.8-.78.8-2.07 0-2.86zM5.41 20L4 18.59l7.72-7.72 1.47 1.35L5.41 20z\"/>\n",
              "  </svg>\n",
              "      </button>\n",
              "      \n",
              "  <style>\n",
              "    .colab-df-container {\n",
              "      display:flex;\n",
              "      flex-wrap:wrap;\n",
              "      gap: 12px;\n",
              "    }\n",
              "\n",
              "    .colab-df-convert {\n",
              "      background-color: #E8F0FE;\n",
              "      border: none;\n",
              "      border-radius: 50%;\n",
              "      cursor: pointer;\n",
              "      display: none;\n",
              "      fill: #1967D2;\n",
              "      height: 32px;\n",
              "      padding: 0 0 0 0;\n",
              "      width: 32px;\n",
              "    }\n",
              "\n",
              "    .colab-df-convert:hover {\n",
              "      background-color: #E2EBFA;\n",
              "      box-shadow: 0px 1px 2px rgba(60, 64, 67, 0.3), 0px 1px 3px 1px rgba(60, 64, 67, 0.15);\n",
              "      fill: #174EA6;\n",
              "    }\n",
              "\n",
              "    [theme=dark] .colab-df-convert {\n",
              "      background-color: #3B4455;\n",
              "      fill: #D2E3FC;\n",
              "    }\n",
              "\n",
              "    [theme=dark] .colab-df-convert:hover {\n",
              "      background-color: #434B5C;\n",
              "      box-shadow: 0px 1px 3px 1px rgba(0, 0, 0, 0.15);\n",
              "      filter: drop-shadow(0px 1px 2px rgba(0, 0, 0, 0.3));\n",
              "      fill: #FFFFFF;\n",
              "    }\n",
              "  </style>\n",
              "\n",
              "      <script>\n",
              "        const buttonEl =\n",
              "          document.querySelector('#df-24e285c7-1f7b-435e-8feb-dea6d307c37d button.colab-df-convert');\n",
              "        buttonEl.style.display =\n",
              "          google.colab.kernel.accessAllowed ? 'block' : 'none';\n",
              "\n",
              "        async function convertToInteractive(key) {\n",
              "          const element = document.querySelector('#df-24e285c7-1f7b-435e-8feb-dea6d307c37d');\n",
              "          const dataTable =\n",
              "            await google.colab.kernel.invokeFunction('convertToInteractive',\n",
              "                                                     [key], {});\n",
              "          if (!dataTable) return;\n",
              "\n",
              "          const docLinkHtml = 'Like what you see? Visit the ' +\n",
              "            '<a target=\"_blank\" href=https://colab.research.google.com/notebooks/data_table.ipynb>data table notebook</a>'\n",
              "            + ' to learn more about interactive tables.';\n",
              "          element.innerHTML = '';\n",
              "          dataTable['output_type'] = 'display_data';\n",
              "          await google.colab.output.renderOutput(dataTable, element);\n",
              "          const docLink = document.createElement('div');\n",
              "          docLink.innerHTML = docLinkHtml;\n",
              "          element.appendChild(docLink);\n",
              "        }\n",
              "      </script>\n",
              "    </div>\n",
              "  </div>\n",
              "  "
            ]
          },
          "metadata": {},
          "execution_count": 172
        }
      ]
    },
    {
      "cell_type": "markdown",
      "source": [
        "# Data Preparation"
      ],
      "metadata": {
        "id": "CGXHU4L-tPlN"
      }
    },
    {
      "cell_type": "markdown",
      "source": [
        "#### One hot encoding to all categorical features"
      ],
      "metadata": {
        "id": "wgfXWxKHcp7P"
      }
    },
    {
      "cell_type": "code",
      "source": [
        "for col in categorical_features:\n",
        "  # pd.get_dummies(df[col], prefix=col, drop_first=True)\n",
        "  df = pd.concat([df, pd.get_dummies(df[col], prefix=col, drop_first=True)], axis=1)"
      ],
      "metadata": {
        "id": "SqbSZQDxd_6O"
      },
      "execution_count": 173,
      "outputs": []
    },
    {
      "cell_type": "code",
      "source": [
        "df.head()"
      ],
      "metadata": {
        "id": "kgf64rOwkxV0",
        "colab": {
          "base_uri": "https://localhost:8080/",
          "height": 334
        },
        "outputId": "79b64b1f-8cde-429d-bd0d-aa5042024f97"
      },
      "execution_count": 174,
      "outputs": [
        {
          "output_type": "execute_result",
          "data": {
            "text/plain": [
              "   Age  Gender self_employed family_history treatment work_interfere  \\\n",
              "0   37  Female            No             No       Yes          Often   \n",
              "1   44    Male            No             No        No         Rarely   \n",
              "2   32    Male            No             No        No         Rarely   \n",
              "3   31    Male            No            Yes       Yes          Often   \n",
              "4   31    Male            No             No        No          Never   \n",
              "\n",
              "     no_employees remote_work tech_company    benefits  ... coworkers_Yes  \\\n",
              "0            6-25          No          Yes         Yes  ...             0   \n",
              "1  More than 1000          No           No  Don't know  ...             0   \n",
              "2            6-25          No          Yes          No  ...             1   \n",
              "3          26-100          No          Yes          No  ...             0   \n",
              "4         100-500         Yes          Yes         Yes  ...             0   \n",
              "\n",
              "  supervisor_Some of them supervisor_Yes phys_health_interview_No  \\\n",
              "0                       0              1                        0   \n",
              "1                       0              0                        1   \n",
              "2                       0              1                        0   \n",
              "3                       0              0                        0   \n",
              "4                       0              1                        0   \n",
              "\n",
              "  phys_health_interview_Yes mental_health_interview_No  \\\n",
              "0                         0                          1   \n",
              "1                         0                          1   \n",
              "2                         1                          0   \n",
              "3                         0                          0   \n",
              "4                         1                          0   \n",
              "\n",
              "  mental_health_interview_Yes mental_vs_physical_No mental_vs_physical_Yes  \\\n",
              "0                           0                     0                      1   \n",
              "1                           0                     0                      0   \n",
              "2                           1                     1                      0   \n",
              "3                           0                     1                      0   \n",
              "4                           1                     0                      0   \n",
              "\n",
              "  obs_consequence_Yes  \n",
              "0                   0  \n",
              "1                   0  \n",
              "2                   0  \n",
              "3                   1  \n",
              "4                   0  \n",
              "\n",
              "[5 rows x 65 columns]"
            ],
            "text/html": [
              "\n",
              "  <div id=\"df-ac75e836-7611-43f7-b4e2-aa391c798b6e\">\n",
              "    <div class=\"colab-df-container\">\n",
              "      <div>\n",
              "<style scoped>\n",
              "    .dataframe tbody tr th:only-of-type {\n",
              "        vertical-align: middle;\n",
              "    }\n",
              "\n",
              "    .dataframe tbody tr th {\n",
              "        vertical-align: top;\n",
              "    }\n",
              "\n",
              "    .dataframe thead th {\n",
              "        text-align: right;\n",
              "    }\n",
              "</style>\n",
              "<table border=\"1\" class=\"dataframe\">\n",
              "  <thead>\n",
              "    <tr style=\"text-align: right;\">\n",
              "      <th></th>\n",
              "      <th>Age</th>\n",
              "      <th>Gender</th>\n",
              "      <th>self_employed</th>\n",
              "      <th>family_history</th>\n",
              "      <th>treatment</th>\n",
              "      <th>work_interfere</th>\n",
              "      <th>no_employees</th>\n",
              "      <th>remote_work</th>\n",
              "      <th>tech_company</th>\n",
              "      <th>benefits</th>\n",
              "      <th>...</th>\n",
              "      <th>coworkers_Yes</th>\n",
              "      <th>supervisor_Some of them</th>\n",
              "      <th>supervisor_Yes</th>\n",
              "      <th>phys_health_interview_No</th>\n",
              "      <th>phys_health_interview_Yes</th>\n",
              "      <th>mental_health_interview_No</th>\n",
              "      <th>mental_health_interview_Yes</th>\n",
              "      <th>mental_vs_physical_No</th>\n",
              "      <th>mental_vs_physical_Yes</th>\n",
              "      <th>obs_consequence_Yes</th>\n",
              "    </tr>\n",
              "  </thead>\n",
              "  <tbody>\n",
              "    <tr>\n",
              "      <th>0</th>\n",
              "      <td>37</td>\n",
              "      <td>Female</td>\n",
              "      <td>No</td>\n",
              "      <td>No</td>\n",
              "      <td>Yes</td>\n",
              "      <td>Often</td>\n",
              "      <td>6-25</td>\n",
              "      <td>No</td>\n",
              "      <td>Yes</td>\n",
              "      <td>Yes</td>\n",
              "      <td>...</td>\n",
              "      <td>0</td>\n",
              "      <td>0</td>\n",
              "      <td>1</td>\n",
              "      <td>0</td>\n",
              "      <td>0</td>\n",
              "      <td>1</td>\n",
              "      <td>0</td>\n",
              "      <td>0</td>\n",
              "      <td>1</td>\n",
              "      <td>0</td>\n",
              "    </tr>\n",
              "    <tr>\n",
              "      <th>1</th>\n",
              "      <td>44</td>\n",
              "      <td>Male</td>\n",
              "      <td>No</td>\n",
              "      <td>No</td>\n",
              "      <td>No</td>\n",
              "      <td>Rarely</td>\n",
              "      <td>More than 1000</td>\n",
              "      <td>No</td>\n",
              "      <td>No</td>\n",
              "      <td>Don't know</td>\n",
              "      <td>...</td>\n",
              "      <td>0</td>\n",
              "      <td>0</td>\n",
              "      <td>0</td>\n",
              "      <td>1</td>\n",
              "      <td>0</td>\n",
              "      <td>1</td>\n",
              "      <td>0</td>\n",
              "      <td>0</td>\n",
              "      <td>0</td>\n",
              "      <td>0</td>\n",
              "    </tr>\n",
              "    <tr>\n",
              "      <th>2</th>\n",
              "      <td>32</td>\n",
              "      <td>Male</td>\n",
              "      <td>No</td>\n",
              "      <td>No</td>\n",
              "      <td>No</td>\n",
              "      <td>Rarely</td>\n",
              "      <td>6-25</td>\n",
              "      <td>No</td>\n",
              "      <td>Yes</td>\n",
              "      <td>No</td>\n",
              "      <td>...</td>\n",
              "      <td>1</td>\n",
              "      <td>0</td>\n",
              "      <td>1</td>\n",
              "      <td>0</td>\n",
              "      <td>1</td>\n",
              "      <td>0</td>\n",
              "      <td>1</td>\n",
              "      <td>1</td>\n",
              "      <td>0</td>\n",
              "      <td>0</td>\n",
              "    </tr>\n",
              "    <tr>\n",
              "      <th>3</th>\n",
              "      <td>31</td>\n",
              "      <td>Male</td>\n",
              "      <td>No</td>\n",
              "      <td>Yes</td>\n",
              "      <td>Yes</td>\n",
              "      <td>Often</td>\n",
              "      <td>26-100</td>\n",
              "      <td>No</td>\n",
              "      <td>Yes</td>\n",
              "      <td>No</td>\n",
              "      <td>...</td>\n",
              "      <td>0</td>\n",
              "      <td>0</td>\n",
              "      <td>0</td>\n",
              "      <td>0</td>\n",
              "      <td>0</td>\n",
              "      <td>0</td>\n",
              "      <td>0</td>\n",
              "      <td>1</td>\n",
              "      <td>0</td>\n",
              "      <td>1</td>\n",
              "    </tr>\n",
              "    <tr>\n",
              "      <th>4</th>\n",
              "      <td>31</td>\n",
              "      <td>Male</td>\n",
              "      <td>No</td>\n",
              "      <td>No</td>\n",
              "      <td>No</td>\n",
              "      <td>Never</td>\n",
              "      <td>100-500</td>\n",
              "      <td>Yes</td>\n",
              "      <td>Yes</td>\n",
              "      <td>Yes</td>\n",
              "      <td>...</td>\n",
              "      <td>0</td>\n",
              "      <td>0</td>\n",
              "      <td>1</td>\n",
              "      <td>0</td>\n",
              "      <td>1</td>\n",
              "      <td>0</td>\n",
              "      <td>1</td>\n",
              "      <td>0</td>\n",
              "      <td>0</td>\n",
              "      <td>0</td>\n",
              "    </tr>\n",
              "  </tbody>\n",
              "</table>\n",
              "<p>5 rows × 65 columns</p>\n",
              "</div>\n",
              "      <button class=\"colab-df-convert\" onclick=\"convertToInteractive('df-ac75e836-7611-43f7-b4e2-aa391c798b6e')\"\n",
              "              title=\"Convert this dataframe to an interactive table.\"\n",
              "              style=\"display:none;\">\n",
              "        \n",
              "  <svg xmlns=\"http://www.w3.org/2000/svg\" height=\"24px\"viewBox=\"0 0 24 24\"\n",
              "       width=\"24px\">\n",
              "    <path d=\"M0 0h24v24H0V0z\" fill=\"none\"/>\n",
              "    <path d=\"M18.56 5.44l.94 2.06.94-2.06 2.06-.94-2.06-.94-.94-2.06-.94 2.06-2.06.94zm-11 1L8.5 8.5l.94-2.06 2.06-.94-2.06-.94L8.5 2.5l-.94 2.06-2.06.94zm10 10l.94 2.06.94-2.06 2.06-.94-2.06-.94-.94-2.06-.94 2.06-2.06.94z\"/><path d=\"M17.41 7.96l-1.37-1.37c-.4-.4-.92-.59-1.43-.59-.52 0-1.04.2-1.43.59L10.3 9.45l-7.72 7.72c-.78.78-.78 2.05 0 2.83L4 21.41c.39.39.9.59 1.41.59.51 0 1.02-.2 1.41-.59l7.78-7.78 2.81-2.81c.8-.78.8-2.07 0-2.86zM5.41 20L4 18.59l7.72-7.72 1.47 1.35L5.41 20z\"/>\n",
              "  </svg>\n",
              "      </button>\n",
              "      \n",
              "  <style>\n",
              "    .colab-df-container {\n",
              "      display:flex;\n",
              "      flex-wrap:wrap;\n",
              "      gap: 12px;\n",
              "    }\n",
              "\n",
              "    .colab-df-convert {\n",
              "      background-color: #E8F0FE;\n",
              "      border: none;\n",
              "      border-radius: 50%;\n",
              "      cursor: pointer;\n",
              "      display: none;\n",
              "      fill: #1967D2;\n",
              "      height: 32px;\n",
              "      padding: 0 0 0 0;\n",
              "      width: 32px;\n",
              "    }\n",
              "\n",
              "    .colab-df-convert:hover {\n",
              "      background-color: #E2EBFA;\n",
              "      box-shadow: 0px 1px 2px rgba(60, 64, 67, 0.3), 0px 1px 3px 1px rgba(60, 64, 67, 0.15);\n",
              "      fill: #174EA6;\n",
              "    }\n",
              "\n",
              "    [theme=dark] .colab-df-convert {\n",
              "      background-color: #3B4455;\n",
              "      fill: #D2E3FC;\n",
              "    }\n",
              "\n",
              "    [theme=dark] .colab-df-convert:hover {\n",
              "      background-color: #434B5C;\n",
              "      box-shadow: 0px 1px 3px 1px rgba(0, 0, 0, 0.15);\n",
              "      filter: drop-shadow(0px 1px 2px rgba(0, 0, 0, 0.3));\n",
              "      fill: #FFFFFF;\n",
              "    }\n",
              "  </style>\n",
              "\n",
              "      <script>\n",
              "        const buttonEl =\n",
              "          document.querySelector('#df-ac75e836-7611-43f7-b4e2-aa391c798b6e button.colab-df-convert');\n",
              "        buttonEl.style.display =\n",
              "          google.colab.kernel.accessAllowed ? 'block' : 'none';\n",
              "\n",
              "        async function convertToInteractive(key) {\n",
              "          const element = document.querySelector('#df-ac75e836-7611-43f7-b4e2-aa391c798b6e');\n",
              "          const dataTable =\n",
              "            await google.colab.kernel.invokeFunction('convertToInteractive',\n",
              "                                                     [key], {});\n",
              "          if (!dataTable) return;\n",
              "\n",
              "          const docLinkHtml = 'Like what you see? Visit the ' +\n",
              "            '<a target=\"_blank\" href=https://colab.research.google.com/notebooks/data_table.ipynb>data table notebook</a>'\n",
              "            + ' to learn more about interactive tables.';\n",
              "          element.innerHTML = '';\n",
              "          dataTable['output_type'] = 'display_data';\n",
              "          await google.colab.output.renderOutput(dataTable, element);\n",
              "          const docLink = document.createElement('div');\n",
              "          docLink.innerHTML = docLinkHtml;\n",
              "          element.appendChild(docLink);\n",
              "        }\n",
              "      </script>\n",
              "    </div>\n",
              "  </div>\n",
              "  "
            ]
          },
          "metadata": {},
          "execution_count": 174
        }
      ]
    },
    {
      "cell_type": "code",
      "source": [
        "df['treatment'] = np.where(df['treatment'] == 'Yes', 1, 0)"
      ],
      "metadata": {
        "id": "GyWjf61glqvm"
      },
      "execution_count": 175,
      "outputs": []
    },
    {
      "cell_type": "code",
      "source": [
        "df.drop(categorical_features, axis = 1, inplace = True)\n",
        "df.head()"
      ],
      "metadata": {
        "id": "_NdMLxwsl2m8",
        "colab": {
          "base_uri": "https://localhost:8080/",
          "height": 317
        },
        "outputId": "9181f8ba-41ec-4ac1-b3fe-b2c66dbf0754"
      },
      "execution_count": 176,
      "outputs": [
        {
          "output_type": "execute_result",
          "data": {
            "text/plain": [
              "   Age  treatment  Gender_Male  self_employed_Yes  family_history_Yes  \\\n",
              "0   37          1            0                  0                   0   \n",
              "1   44          0            1                  0                   0   \n",
              "2   32          0            1                  0                   0   \n",
              "3   31          1            1                  0                   1   \n",
              "4   31          0            1                  0                   0   \n",
              "\n",
              "   work_interfere_Often  work_interfere_Rarely  work_interfere_Sometimes  \\\n",
              "0                     1                      0                         0   \n",
              "1                     0                      1                         0   \n",
              "2                     0                      1                         0   \n",
              "3                     1                      0                         0   \n",
              "4                     0                      0                         0   \n",
              "\n",
              "   no_employees_100-500  no_employees_26-100  ...  coworkers_Yes  \\\n",
              "0                     0                    0  ...              0   \n",
              "1                     0                    0  ...              0   \n",
              "2                     0                    0  ...              1   \n",
              "3                     0                    1  ...              0   \n",
              "4                     1                    0  ...              0   \n",
              "\n",
              "   supervisor_Some of them  supervisor_Yes  phys_health_interview_No  \\\n",
              "0                        0               1                         0   \n",
              "1                        0               0                         1   \n",
              "2                        0               1                         0   \n",
              "3                        0               0                         0   \n",
              "4                        0               1                         0   \n",
              "\n",
              "   phys_health_interview_Yes  mental_health_interview_No  \\\n",
              "0                          0                           1   \n",
              "1                          0                           1   \n",
              "2                          1                           0   \n",
              "3                          0                           0   \n",
              "4                          1                           0   \n",
              "\n",
              "   mental_health_interview_Yes  mental_vs_physical_No  mental_vs_physical_Yes  \\\n",
              "0                            0                      0                       1   \n",
              "1                            0                      0                       0   \n",
              "2                            1                      1                       0   \n",
              "3                            0                      1                       0   \n",
              "4                            1                      0                       0   \n",
              "\n",
              "   obs_consequence_Yes  \n",
              "0                    0  \n",
              "1                    0  \n",
              "2                    0  \n",
              "3                    1  \n",
              "4                    0  \n",
              "\n",
              "[5 rows x 44 columns]"
            ],
            "text/html": [
              "\n",
              "  <div id=\"df-80249820-a571-4d4e-9713-a91165e27319\">\n",
              "    <div class=\"colab-df-container\">\n",
              "      <div>\n",
              "<style scoped>\n",
              "    .dataframe tbody tr th:only-of-type {\n",
              "        vertical-align: middle;\n",
              "    }\n",
              "\n",
              "    .dataframe tbody tr th {\n",
              "        vertical-align: top;\n",
              "    }\n",
              "\n",
              "    .dataframe thead th {\n",
              "        text-align: right;\n",
              "    }\n",
              "</style>\n",
              "<table border=\"1\" class=\"dataframe\">\n",
              "  <thead>\n",
              "    <tr style=\"text-align: right;\">\n",
              "      <th></th>\n",
              "      <th>Age</th>\n",
              "      <th>treatment</th>\n",
              "      <th>Gender_Male</th>\n",
              "      <th>self_employed_Yes</th>\n",
              "      <th>family_history_Yes</th>\n",
              "      <th>work_interfere_Often</th>\n",
              "      <th>work_interfere_Rarely</th>\n",
              "      <th>work_interfere_Sometimes</th>\n",
              "      <th>no_employees_100-500</th>\n",
              "      <th>no_employees_26-100</th>\n",
              "      <th>...</th>\n",
              "      <th>coworkers_Yes</th>\n",
              "      <th>supervisor_Some of them</th>\n",
              "      <th>supervisor_Yes</th>\n",
              "      <th>phys_health_interview_No</th>\n",
              "      <th>phys_health_interview_Yes</th>\n",
              "      <th>mental_health_interview_No</th>\n",
              "      <th>mental_health_interview_Yes</th>\n",
              "      <th>mental_vs_physical_No</th>\n",
              "      <th>mental_vs_physical_Yes</th>\n",
              "      <th>obs_consequence_Yes</th>\n",
              "    </tr>\n",
              "  </thead>\n",
              "  <tbody>\n",
              "    <tr>\n",
              "      <th>0</th>\n",
              "      <td>37</td>\n",
              "      <td>1</td>\n",
              "      <td>0</td>\n",
              "      <td>0</td>\n",
              "      <td>0</td>\n",
              "      <td>1</td>\n",
              "      <td>0</td>\n",
              "      <td>0</td>\n",
              "      <td>0</td>\n",
              "      <td>0</td>\n",
              "      <td>...</td>\n",
              "      <td>0</td>\n",
              "      <td>0</td>\n",
              "      <td>1</td>\n",
              "      <td>0</td>\n",
              "      <td>0</td>\n",
              "      <td>1</td>\n",
              "      <td>0</td>\n",
              "      <td>0</td>\n",
              "      <td>1</td>\n",
              "      <td>0</td>\n",
              "    </tr>\n",
              "    <tr>\n",
              "      <th>1</th>\n",
              "      <td>44</td>\n",
              "      <td>0</td>\n",
              "      <td>1</td>\n",
              "      <td>0</td>\n",
              "      <td>0</td>\n",
              "      <td>0</td>\n",
              "      <td>1</td>\n",
              "      <td>0</td>\n",
              "      <td>0</td>\n",
              "      <td>0</td>\n",
              "      <td>...</td>\n",
              "      <td>0</td>\n",
              "      <td>0</td>\n",
              "      <td>0</td>\n",
              "      <td>1</td>\n",
              "      <td>0</td>\n",
              "      <td>1</td>\n",
              "      <td>0</td>\n",
              "      <td>0</td>\n",
              "      <td>0</td>\n",
              "      <td>0</td>\n",
              "    </tr>\n",
              "    <tr>\n",
              "      <th>2</th>\n",
              "      <td>32</td>\n",
              "      <td>0</td>\n",
              "      <td>1</td>\n",
              "      <td>0</td>\n",
              "      <td>0</td>\n",
              "      <td>0</td>\n",
              "      <td>1</td>\n",
              "      <td>0</td>\n",
              "      <td>0</td>\n",
              "      <td>0</td>\n",
              "      <td>...</td>\n",
              "      <td>1</td>\n",
              "      <td>0</td>\n",
              "      <td>1</td>\n",
              "      <td>0</td>\n",
              "      <td>1</td>\n",
              "      <td>0</td>\n",
              "      <td>1</td>\n",
              "      <td>1</td>\n",
              "      <td>0</td>\n",
              "      <td>0</td>\n",
              "    </tr>\n",
              "    <tr>\n",
              "      <th>3</th>\n",
              "      <td>31</td>\n",
              "      <td>1</td>\n",
              "      <td>1</td>\n",
              "      <td>0</td>\n",
              "      <td>1</td>\n",
              "      <td>1</td>\n",
              "      <td>0</td>\n",
              "      <td>0</td>\n",
              "      <td>0</td>\n",
              "      <td>1</td>\n",
              "      <td>...</td>\n",
              "      <td>0</td>\n",
              "      <td>0</td>\n",
              "      <td>0</td>\n",
              "      <td>0</td>\n",
              "      <td>0</td>\n",
              "      <td>0</td>\n",
              "      <td>0</td>\n",
              "      <td>1</td>\n",
              "      <td>0</td>\n",
              "      <td>1</td>\n",
              "    </tr>\n",
              "    <tr>\n",
              "      <th>4</th>\n",
              "      <td>31</td>\n",
              "      <td>0</td>\n",
              "      <td>1</td>\n",
              "      <td>0</td>\n",
              "      <td>0</td>\n",
              "      <td>0</td>\n",
              "      <td>0</td>\n",
              "      <td>0</td>\n",
              "      <td>1</td>\n",
              "      <td>0</td>\n",
              "      <td>...</td>\n",
              "      <td>0</td>\n",
              "      <td>0</td>\n",
              "      <td>1</td>\n",
              "      <td>0</td>\n",
              "      <td>1</td>\n",
              "      <td>0</td>\n",
              "      <td>1</td>\n",
              "      <td>0</td>\n",
              "      <td>0</td>\n",
              "      <td>0</td>\n",
              "    </tr>\n",
              "  </tbody>\n",
              "</table>\n",
              "<p>5 rows × 44 columns</p>\n",
              "</div>\n",
              "      <button class=\"colab-df-convert\" onclick=\"convertToInteractive('df-80249820-a571-4d4e-9713-a91165e27319')\"\n",
              "              title=\"Convert this dataframe to an interactive table.\"\n",
              "              style=\"display:none;\">\n",
              "        \n",
              "  <svg xmlns=\"http://www.w3.org/2000/svg\" height=\"24px\"viewBox=\"0 0 24 24\"\n",
              "       width=\"24px\">\n",
              "    <path d=\"M0 0h24v24H0V0z\" fill=\"none\"/>\n",
              "    <path d=\"M18.56 5.44l.94 2.06.94-2.06 2.06-.94-2.06-.94-.94-2.06-.94 2.06-2.06.94zm-11 1L8.5 8.5l.94-2.06 2.06-.94-2.06-.94L8.5 2.5l-.94 2.06-2.06.94zm10 10l.94 2.06.94-2.06 2.06-.94-2.06-.94-.94-2.06-.94 2.06-2.06.94z\"/><path d=\"M17.41 7.96l-1.37-1.37c-.4-.4-.92-.59-1.43-.59-.52 0-1.04.2-1.43.59L10.3 9.45l-7.72 7.72c-.78.78-.78 2.05 0 2.83L4 21.41c.39.39.9.59 1.41.59.51 0 1.02-.2 1.41-.59l7.78-7.78 2.81-2.81c.8-.78.8-2.07 0-2.86zM5.41 20L4 18.59l7.72-7.72 1.47 1.35L5.41 20z\"/>\n",
              "  </svg>\n",
              "      </button>\n",
              "      \n",
              "  <style>\n",
              "    .colab-df-container {\n",
              "      display:flex;\n",
              "      flex-wrap:wrap;\n",
              "      gap: 12px;\n",
              "    }\n",
              "\n",
              "    .colab-df-convert {\n",
              "      background-color: #E8F0FE;\n",
              "      border: none;\n",
              "      border-radius: 50%;\n",
              "      cursor: pointer;\n",
              "      display: none;\n",
              "      fill: #1967D2;\n",
              "      height: 32px;\n",
              "      padding: 0 0 0 0;\n",
              "      width: 32px;\n",
              "    }\n",
              "\n",
              "    .colab-df-convert:hover {\n",
              "      background-color: #E2EBFA;\n",
              "      box-shadow: 0px 1px 2px rgba(60, 64, 67, 0.3), 0px 1px 3px 1px rgba(60, 64, 67, 0.15);\n",
              "      fill: #174EA6;\n",
              "    }\n",
              "\n",
              "    [theme=dark] .colab-df-convert {\n",
              "      background-color: #3B4455;\n",
              "      fill: #D2E3FC;\n",
              "    }\n",
              "\n",
              "    [theme=dark] .colab-df-convert:hover {\n",
              "      background-color: #434B5C;\n",
              "      box-shadow: 0px 1px 3px 1px rgba(0, 0, 0, 0.15);\n",
              "      filter: drop-shadow(0px 1px 2px rgba(0, 0, 0, 0.3));\n",
              "      fill: #FFFFFF;\n",
              "    }\n",
              "  </style>\n",
              "\n",
              "      <script>\n",
              "        const buttonEl =\n",
              "          document.querySelector('#df-80249820-a571-4d4e-9713-a91165e27319 button.colab-df-convert');\n",
              "        buttonEl.style.display =\n",
              "          google.colab.kernel.accessAllowed ? 'block' : 'none';\n",
              "\n",
              "        async function convertToInteractive(key) {\n",
              "          const element = document.querySelector('#df-80249820-a571-4d4e-9713-a91165e27319');\n",
              "          const dataTable =\n",
              "            await google.colab.kernel.invokeFunction('convertToInteractive',\n",
              "                                                     [key], {});\n",
              "          if (!dataTable) return;\n",
              "\n",
              "          const docLinkHtml = 'Like what you see? Visit the ' +\n",
              "            '<a target=\"_blank\" href=https://colab.research.google.com/notebooks/data_table.ipynb>data table notebook</a>'\n",
              "            + ' to learn more about interactive tables.';\n",
              "          element.innerHTML = '';\n",
              "          dataTable['output_type'] = 'display_data';\n",
              "          await google.colab.output.renderOutput(dataTable, element);\n",
              "          const docLink = document.createElement('div');\n",
              "          docLink.innerHTML = docLinkHtml;\n",
              "          element.appendChild(docLink);\n",
              "        }\n",
              "      </script>\n",
              "    </div>\n",
              "  </div>\n",
              "  "
            ]
          },
          "metadata": {},
          "execution_count": 176
        }
      ]
    },
    {
      "cell_type": "code",
      "source": [
        "df.treatment.unique()\n",
        "\n",
        "print(df.treatment.value_counts())"
      ],
      "metadata": {
        "id": "fI6fJ4RbNB3Z",
        "colab": {
          "base_uri": "https://localhost:8080/"
        },
        "outputId": "013d173b-7937-4a1e-fae4-6c01eb541b06"
      },
      "execution_count": 177,
      "outputs": [
        {
          "output_type": "stream",
          "name": "stdout",
          "text": [
            "1    637\n",
            "0    622\n",
            "Name: treatment, dtype: int64\n"
          ]
        }
      ]
    },
    {
      "cell_type": "code",
      "source": [
        "y = df['treatment']\n",
        "X = df.drop('treatment', axis=1)"
      ],
      "metadata": {
        "id": "SmV6f3GxCztW"
      },
      "execution_count": 178,
      "outputs": []
    },
    {
      "cell_type": "markdown",
      "source": [
        "# Features Selection"
      ],
      "metadata": {
        "id": "T1VDRDeuo63P"
      }
    },
    {
      "cell_type": "code",
      "source": [
        "from sklearn.feature_selection import RFE\n",
        "from sklearn.linear_model import LogisticRegression\n",
        "\n",
        "logreg = LogisticRegression()\n",
        "rfe = RFE(logreg, n_features_to_select=25)\n",
        "rfe = rfe.fit(X, y.values.ravel())\n",
        "print(rfe.support_)\n",
        "print(rfe.ranking_)\n",
        "print(rfe.get_feature_names_out())"
      ],
      "metadata": {
        "id": "Sf7pMssuVDkr",
        "colab": {
          "base_uri": "https://localhost:8080/"
        },
        "outputId": "513ae79e-7f48-468b-939f-786f1525d705"
      },
      "execution_count": 179,
      "outputs": [
        {
          "output_type": "stream",
          "name": "stderr",
          "text": [
            "/usr/local/lib/python3.7/dist-packages/sklearn/linear_model/_logistic.py:818: ConvergenceWarning: lbfgs failed to converge (status=1):\n",
            "STOP: TOTAL NO. of ITERATIONS REACHED LIMIT.\n",
            "\n",
            "Increase the number of iterations (max_iter) or scale the data as shown in:\n",
            "    https://scikit-learn.org/stable/modules/preprocessing.html\n",
            "Please also refer to the documentation for alternative solver options:\n",
            "    https://scikit-learn.org/stable/modules/linear_model.html#logistic-regression\n",
            "  extra_warning_msg=_LOGISTIC_SOLVER_CONVERGENCE_MSG,\n",
            "/usr/local/lib/python3.7/dist-packages/sklearn/linear_model/_logistic.py:818: ConvergenceWarning: lbfgs failed to converge (status=1):\n",
            "STOP: TOTAL NO. of ITERATIONS REACHED LIMIT.\n",
            "\n",
            "Increase the number of iterations (max_iter) or scale the data as shown in:\n",
            "    https://scikit-learn.org/stable/modules/preprocessing.html\n",
            "Please also refer to the documentation for alternative solver options:\n",
            "    https://scikit-learn.org/stable/modules/linear_model.html#logistic-regression\n",
            "  extra_warning_msg=_LOGISTIC_SOLVER_CONVERGENCE_MSG,\n",
            "/usr/local/lib/python3.7/dist-packages/sklearn/linear_model/_logistic.py:818: ConvergenceWarning: lbfgs failed to converge (status=1):\n",
            "STOP: TOTAL NO. of ITERATIONS REACHED LIMIT.\n",
            "\n",
            "Increase the number of iterations (max_iter) or scale the data as shown in:\n",
            "    https://scikit-learn.org/stable/modules/preprocessing.html\n",
            "Please also refer to the documentation for alternative solver options:\n",
            "    https://scikit-learn.org/stable/modules/linear_model.html#logistic-regression\n",
            "  extra_warning_msg=_LOGISTIC_SOLVER_CONVERGENCE_MSG,\n"
          ]
        },
        {
          "output_type": "stream",
          "name": "stdout",
          "text": [
            "[False  True False  True  True  True  True False False  True  True  True\n",
            " False False False  True False  True False False  True  True  True  True\n",
            "  True False  True False  True False False False  True  True  True  True\n",
            " False  True  True  True False False  True]\n",
            "[16  1 13  1  1  1  1 18  8  1  1  1 15  6 17  1  3  1  5 19  1  1  1  1\n",
            "  1  7  1  2  1  4 12 11  1  1  1  1 14  1  1  1 10  9  1]\n",
            "['Gender_Male' 'family_history_Yes' 'work_interfere_Often'\n",
            " 'work_interfere_Rarely' 'work_interfere_Sometimes'\n",
            " 'no_employees_500-1000' 'no_employees_6-25' 'no_employees_More than 1000'\n",
            " 'benefits_Yes' 'care_options_Yes' 'seek_help_No' 'seek_help_Yes'\n",
            " 'anonymity_No' 'anonymity_Yes' 'leave_Somewhat difficult'\n",
            " 'leave_Very difficult' 'mental_health_consequence_No'\n",
            " 'coworkers_Some of them' 'coworkers_Yes' 'supervisor_Some of them'\n",
            " 'supervisor_Yes' 'phys_health_interview_Yes' 'mental_health_interview_No'\n",
            " 'mental_health_interview_Yes' 'obs_consequence_Yes']\n"
          ]
        }
      ]
    },
    {
      "cell_type": "code",
      "source": [
        "new_col = rfe.get_feature_names_out()\n",
        "\n",
        "X_featured = X[new_col]"
      ],
      "metadata": {
        "id": "yXXyP40lXjF9"
      },
      "execution_count": 180,
      "outputs": []
    },
    {
      "cell_type": "code",
      "source": [
        "from statsmodels.api import Logit\n",
        "\n",
        "logit_model=Logit(y,X_featured)\n",
        "result=logit_model.fit()\n",
        "print(result.summary())"
      ],
      "metadata": {
        "id": "3_NK0uOyUr12",
        "colab": {
          "base_uri": "https://localhost:8080/"
        },
        "outputId": "4f922ab0-abd0-498b-9ee0-1e7e83f718f1"
      },
      "execution_count": 181,
      "outputs": [
        {
          "output_type": "stream",
          "name": "stdout",
          "text": [
            "Optimization terminated successfully.\n",
            "         Current function value: 0.509745\n",
            "         Iterations 6\n",
            "                           Logit Regression Results                           \n",
            "==============================================================================\n",
            "Dep. Variable:              treatment   No. Observations:                 1259\n",
            "Model:                          Logit   Df Residuals:                     1234\n",
            "Method:                           MLE   Df Model:                           24\n",
            "Date:                Thu, 11 Aug 2022   Pseudo R-squ.:                  0.2645\n",
            "Time:                        21:07:03   Log-Likelihood:                -641.77\n",
            "converged:                       True   LL-Null:                       -872.58\n",
            "Covariance Type:            nonrobust   LLR p-value:                 1.496e-82\n",
            "================================================================================================\n",
            "                                   coef    std err          z      P>|z|      [0.025      0.975]\n",
            "------------------------------------------------------------------------------------------------\n",
            "Gender_Male                     -1.1106      0.166     -6.676      0.000      -1.437      -0.784\n",
            "family_history_Yes               1.2926      0.146      8.825      0.000       1.006       1.580\n",
            "work_interfere_Often             2.6614      0.315      8.452      0.000       2.044       3.279\n",
            "work_interfere_Rarely            1.7948      0.260      6.911      0.000       1.286       2.304\n",
            "work_interfere_Sometimes         0.9621      0.191      5.031      0.000       0.587       1.337\n",
            "no_employees_500-1000           -0.7955      0.337     -2.364      0.018      -1.455      -0.136\n",
            "no_employees_6-25               -0.3126      0.173     -1.805      0.071      -0.652       0.027\n",
            "no_employees_More than 1000     -0.5172      0.192     -2.691      0.007      -0.894      -0.140\n",
            "benefits_Yes                     0.3472      0.179      1.942      0.052      -0.003       0.698\n",
            "care_options_Yes                 0.8472      0.173      4.905      0.000       0.509       1.186\n",
            "seek_help_No                    -0.6110      0.170     -3.596      0.000      -0.944      -0.278\n",
            "seek_help_Yes                   -0.4485      0.231     -1.943      0.052      -0.901       0.004\n",
            "anonymity_No                    -0.3571      0.344     -1.039      0.299      -1.031       0.317\n",
            "anonymity_Yes                    0.2674      0.174      1.537      0.124      -0.074       0.608\n",
            "leave_Somewhat difficult         0.5738      0.240      2.388      0.017       0.103       1.045\n",
            "leave_Very difficult             0.4932      0.284      1.737      0.082      -0.063       1.050\n",
            "mental_health_consequence_No    -0.5906      0.175     -3.375      0.001      -0.934      -0.248\n",
            "coworkers_Some of them           0.2197      0.190      1.156      0.248      -0.153       0.592\n",
            "coworkers_Yes                    0.8072      0.274      2.945      0.003       0.270       1.344\n",
            "supervisor_Some of them         -0.4469      0.194     -2.304      0.021      -0.827      -0.067\n",
            "supervisor_Yes                  -0.5799      0.222     -2.617      0.009      -1.014      -0.146\n",
            "phys_health_interview_Yes        0.1343      0.216      0.622      0.534      -0.289       0.557\n",
            "mental_health_interview_No      -0.3518      0.174     -2.021      0.043      -0.693      -0.011\n",
            "mental_health_interview_Yes      0.2367      0.432      0.547      0.584      -0.611       1.084\n",
            "obs_consequence_Yes              0.3444      0.215      1.600      0.110      -0.077       0.766\n",
            "================================================================================================\n"
          ]
        }
      ]
    },
    {
      "cell_type": "code",
      "source": [
        "features_eng = ['Gender_Male', 'family_history_Yes', 'work_interfere_Often', 'work_interfere_Rarely', 'work_interfere_Sometimes', 'no_employees_500-1000', 'no_employees_More than 1000', 'care_options_Yes', 'seek_help_No', 'leave_Somewhat difficult', 'mental_health_consequence_No', 'coworkers_Yes', 'supervisor_Some of them', 'supervisor_Yes', 'mental_health_interview_No']\n",
        "\n",
        "X_featured = X_featured[features_eng]"
      ],
      "metadata": {
        "id": "2TYOMed9Zt9x"
      },
      "execution_count": 182,
      "outputs": []
    },
    {
      "cell_type": "code",
      "source": [
        "logit_model=Logit(y,X_featured)\n",
        "result=logit_model.fit()\n",
        "print(result.summary())"
      ],
      "metadata": {
        "colab": {
          "base_uri": "https://localhost:8080/"
        },
        "id": "Eb0L2GYKftmX",
        "outputId": "a315271a-3c33-4e79-b1dd-c0a8e15c4c60"
      },
      "execution_count": 183,
      "outputs": [
        {
          "output_type": "stream",
          "name": "stdout",
          "text": [
            "Optimization terminated successfully.\n",
            "         Current function value: 0.518773\n",
            "         Iterations 6\n",
            "                           Logit Regression Results                           \n",
            "==============================================================================\n",
            "Dep. Variable:              treatment   No. Observations:                 1259\n",
            "Model:                          Logit   Df Residuals:                     1244\n",
            "Method:                           MLE   Df Model:                           14\n",
            "Date:                Thu, 11 Aug 2022   Pseudo R-squ.:                  0.2515\n",
            "Time:                        21:07:03   Log-Likelihood:                -653.14\n",
            "converged:                       True   LL-Null:                       -872.58\n",
            "Covariance Type:            nonrobust   LLR p-value:                 7.904e-85\n",
            "================================================================================================\n",
            "                                   coef    std err          z      P>|z|      [0.025      0.975]\n",
            "------------------------------------------------------------------------------------------------\n",
            "Gender_Male                     -1.0778      0.159     -6.793      0.000      -1.389      -0.767\n",
            "family_history_Yes               1.3265      0.144      9.243      0.000       1.045       1.608\n",
            "work_interfere_Often             2.7237      0.304      8.962      0.000       2.128       3.319\n",
            "work_interfere_Rarely            1.8109      0.252      7.200      0.000       1.318       2.304\n",
            "work_interfere_Sometimes         1.0311      0.182      5.672      0.000       0.675       1.387\n",
            "no_employees_500-1000           -0.5940      0.325     -1.830      0.067      -1.230       0.042\n",
            "no_employees_More than 1000     -0.3626      0.176     -2.056      0.040      -0.708      -0.017\n",
            "care_options_Yes                 1.0191      0.146      6.962      0.000       0.732       1.306\n",
            "seek_help_No                    -0.5000      0.147     -3.407      0.001      -0.788      -0.212\n",
            "leave_Somewhat difficult         0.5332      0.234      2.277      0.023       0.074       0.992\n",
            "mental_health_consequence_No    -0.6044      0.170     -3.562      0.000      -0.937      -0.272\n",
            "coworkers_Yes                    0.6063      0.206      2.945      0.003       0.203       1.010\n",
            "supervisor_Some of them         -0.3348      0.171     -1.953      0.051      -0.671       0.001\n",
            "supervisor_Yes                  -0.4580      0.194     -2.356      0.018      -0.839      -0.077\n",
            "mental_health_interview_No      -0.3762      0.159     -2.362      0.018      -0.688      -0.064\n",
            "================================================================================================\n"
          ]
        }
      ]
    },
    {
      "cell_type": "markdown",
      "source": [
        "# Building Models"
      ],
      "metadata": {
        "id": "7RQRsHL-ptsO"
      }
    },
    {
      "cell_type": "code",
      "source": [
        "from sklearn.linear_model import LogisticRegression\n",
        "from sklearn.ensemble import GradientBoostingClassifier\n",
        "from sklearn.naive_bayes import GaussianNB\n",
        "\n",
        "key = ['LogisticRegression','GradientBoostingClassifier', 'GaussianNB']\n",
        "value = [LogisticRegression(), GradientBoostingClassifier(random_state=20), GaussianNB()]\n",
        "models = dict(zip(key,value))\n",
        "models"
      ],
      "metadata": {
        "id": "14bCPafWOlIY",
        "colab": {
          "base_uri": "https://localhost:8080/"
        },
        "outputId": "1da66851-3f75-4f51-bd48-2bf55d35e365"
      },
      "execution_count": 184,
      "outputs": [
        {
          "output_type": "execute_result",
          "data": {
            "text/plain": [
              "{'GaussianNB': GaussianNB(),\n",
              " 'GradientBoostingClassifier': GradientBoostingClassifier(random_state=20),\n",
              " 'LogisticRegression': LogisticRegression()}"
            ]
          },
          "metadata": {},
          "execution_count": 184
        }
      ]
    },
    {
      "cell_type": "code",
      "source": [
        "from sklearn.model_selection import train_test_split\n",
        "from sklearn.metrics import accuracy_score\n",
        "\n",
        "def split_data_and_predict(X, y):\n",
        "  X_train, X_test, y_train, y_test = train_test_split(X, y, stratify = y, test_size = 0.3, random_state = 101)\n",
        "\n",
        "  print(\"X_train : \", X_train.shape)\n",
        "  print(\"X_test : \", X_test.shape)\n",
        "  print(\"Y_train : \", y_train.shape)\n",
        "  print(\"Y_test : \", y_test.shape)\n",
        "\n",
        "  predicted = []\n",
        "  for name, algorithm in models.items():\n",
        "      model = algorithm\n",
        "      model.fit(X_train, y_train)\n",
        "      predict = model.predict(X_test)\n",
        "      acc = accuracy_score(y_test, predict)\n",
        "      predicted.append(acc)\n",
        "      print(name, acc)\n",
        "  \n",
        "  return predicted"
      ],
      "metadata": {
        "id": "l1d58T3YPsYC"
      },
      "execution_count": 185,
      "outputs": []
    },
    {
      "cell_type": "markdown",
      "source": [
        "# Prediction"
      ],
      "metadata": {
        "id": "LOIBj7hT2dq5"
      }
    },
    {
      "cell_type": "code",
      "source": [
        "unfeatured_prediction = split_data_and_predict(X, y)\n",
        "featured_prediction = split_data_and_predict(X_featured, y)"
      ],
      "metadata": {
        "id": "onlq6tKItVA9",
        "colab": {
          "base_uri": "https://localhost:8080/"
        },
        "outputId": "390530df-c794-4f1e-e816-afeecec63623"
      },
      "execution_count": 186,
      "outputs": [
        {
          "output_type": "stream",
          "name": "stdout",
          "text": [
            "X_train :  (881, 43)\n",
            "X_test :  (378, 43)\n",
            "Y_train :  (881,)\n",
            "Y_test :  (378,)\n",
            "LogisticRegression 0.716931216931217\n"
          ]
        },
        {
          "output_type": "stream",
          "name": "stderr",
          "text": [
            "/usr/local/lib/python3.7/dist-packages/sklearn/linear_model/_logistic.py:818: ConvergenceWarning: lbfgs failed to converge (status=1):\n",
            "STOP: TOTAL NO. of ITERATIONS REACHED LIMIT.\n",
            "\n",
            "Increase the number of iterations (max_iter) or scale the data as shown in:\n",
            "    https://scikit-learn.org/stable/modules/preprocessing.html\n",
            "Please also refer to the documentation for alternative solver options:\n",
            "    https://scikit-learn.org/stable/modules/linear_model.html#logistic-regression\n",
            "  extra_warning_msg=_LOGISTIC_SOLVER_CONVERGENCE_MSG,\n"
          ]
        },
        {
          "output_type": "stream",
          "name": "stdout",
          "text": [
            "GradientBoostingClassifier 0.7037037037037037\n",
            "GaussianNB 0.671957671957672\n",
            "X_train :  (881, 15)\n",
            "X_test :  (378, 15)\n",
            "Y_train :  (881,)\n",
            "Y_test :  (378,)\n",
            "LogisticRegression 0.7328042328042328\n",
            "GradientBoostingClassifier 0.7354497354497355\n",
            "GaussianNB 0.6931216931216931\n"
          ]
        }
      ]
    },
    {
      "cell_type": "code",
      "source": [
        "prediction = {\n",
        "  'algorithm': [],\n",
        "  'unfeatured': [],\n",
        "  'featured': []\n",
        "}\n",
        "\n",
        "for i in range(len(unfeatured_prediction)):\n",
        "  prediction['algorithm'].append(key[i])\n",
        "  prediction['unfeatured'].append(unfeatured_prediction[i])\n",
        "  prediction['featured'].append(featured_prediction[i])\n",
        "\n",
        "dfp = pd.DataFrame(prediction)"
      ],
      "metadata": {
        "colab": {
          "base_uri": "https://localhost:8080/"
        },
        "id": "I6ECRtT8vi1y",
        "outputId": "5c6312d5-29de-4bb6-a1ac-d630cf2d81e6"
      },
      "execution_count": 194,
      "outputs": [
        {
          "output_type": "stream",
          "name": "stdout",
          "text": [
            "{'algorithm': ['LogisticRegression', 'GradientBoostingClassifier', 'GaussianNB'], 'unfeatured': [0.716931216931217, 0.7037037037037037, 0.671957671957672], 'featured': [0.7328042328042328, 0.7354497354497355, 0.6931216931216931]}\n"
          ]
        }
      ]
    },
    {
      "cell_type": "code",
      "source": [
        "plt.figure(figsize = (10,5))\n",
        "ax = sns.barplot(x = 'accuracy', y ='algorithm', hue='awikwok', palette='Purples', data=dfp.melt(id_vars=\"algorithm\", value_name='accuracy', var_name='awikwok'))\n",
        "ax.legend(bbox_to_anchor=(1.02, 1), loc='upper left', borderaxespad=0)\n",
        "plt.title(\"Plotting the Model Accuracies\", fontsize=16, fontweight=\"bold\")"
      ],
      "metadata": {
        "id": "d2AzCtVGR6sr",
        "colab": {
          "base_uri": "https://localhost:8080/",
          "height": 370
        },
        "outputId": "4baa1afa-b523-4efe-d1ca-8e0c55b6fcdf"
      },
      "execution_count": 207,
      "outputs": [
        {
          "output_type": "execute_result",
          "data": {
            "text/plain": [
              "Text(0.5, 1.0, 'Plotting the Model Accuracies')"
            ]
          },
          "metadata": {},
          "execution_count": 207
        },
        {
          "output_type": "display_data",
          "data": {
            "text/plain": [
              "<Figure size 720x360 with 1 Axes>"
            ],
            "image/png": "[encoded data removed]"
          },
          "metadata": {
            "needs_background": "light"
          }
        }
      ]
    }
  ]
}